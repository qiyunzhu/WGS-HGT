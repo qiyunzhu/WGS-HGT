{
 "cells": [
  {
   "cell_type": "markdown",
   "metadata": {},
   "source": [
    "# Generate a metadata table for genomes"
   ]
  },
  {
   "cell_type": "markdown",
   "metadata": {},
   "source": [
    "### Dependencies"
   ]
  },
  {
   "cell_type": "code",
   "execution_count": 1,
   "metadata": {
    "collapsed": true
   },
   "outputs": [],
   "source": [
    "import pandas as pd"
   ]
  },
  {
   "cell_type": "markdown",
   "metadata": {},
   "source": [
    "### Input files"
   ]
  },
  {
   "cell_type": "markdown",
   "metadata": {},
   "source": [
    "External maps"
   ]
  },
  {
   "cell_type": "code",
   "execution_count": 2,
   "metadata": {
    "collapsed": true
   },
   "outputs": [],
   "source": [
    "# IMG IDs\n",
    "img_fp = '../catalogs/img/gid2img.txt'\n",
    "\n",
    "# GTDB IDs\n",
    "gtdb_fp = '../catalogs/GTDB/r86.1/wol2gtdb.txt'"
   ]
  },
  {
   "cell_type": "markdown",
   "metadata": {},
   "source": [
    "95,769 genomes in total"
   ]
  },
  {
   "cell_type": "code",
   "execution_count": 3,
   "metadata": {
    "collapsed": true
   },
   "outputs": [],
   "source": [
    "# RepoPhlAn report \n",
    "repophlan_fp = 'metrics/repophlan.tsv.xz'\n",
    "\n",
    "# NCBI taxonomy by rank\n",
    "taxonomy_fp = '../taxonomy/maps/all/rank_names.tsv.xz'\n",
    "\n",
    "# QUAST report\n",
    "quast_fp = 'metrics/quast.tsv.xz'"
   ]
  },
  {
   "cell_type": "markdown",
   "metadata": {},
   "source": [
    "86,200 prokaryotic genomes with DNA"
   ]
  },
  {
   "cell_type": "code",
   "execution_count": 4,
   "metadata": {
    "collapsed": true
   },
   "outputs": [],
   "source": [
    "# prokaryotic genome list\n",
    "prok_list = 'glists/fna_prok.txt'\n",
    "\n",
    "# Prodigal report\n",
    "prodigal_fp = 'metrics/prodigal.tsv.xz'\n",
    "\n",
    "# CheckM report\n",
    "checkm_fp = 'metrics/checkm.tsv.xz'\n",
    "\n",
    "# RNAmmer report\n",
    "rnammer_fp = 'metrics/rnammer.tsv.xz'\n",
    "\n",
    "# Aragorn report\n",
    "aragorn_fp = 'metrics/aragorn.tsv.xz'\n",
    "\n",
    "# Major groups\n",
    "lv1_fp = '../taxonomy/major/lv1.txt'\n",
    "lv2_fp = '../taxonomy/major/lv2.txt'\n",
    "\n",
    "# Marker gene profile\n",
    "markers_fp = '../markers/phylophlan/phyletics.tsv.bz2'\n",
    "\n",
    "# Scope\n",
    "scope_fp = 'metrics/scope.txt'"
   ]
  },
  {
   "cell_type": "markdown",
   "metadata": {},
   "source": [
    "10,575 genomes included in phylogeny"
   ]
  },
  {
   "cell_type": "code",
   "execution_count": 5,
   "metadata": {
    "collapsed": true
   },
   "outputs": [],
   "source": [
    "# included genome list\n",
    "in_list = 'glists/in.txt'\n",
    "\n",
    "# neighbors for the extra genomes\n",
    "neighbors_fp = '../trees/expansion/neighbors.txt'"
   ]
  },
  {
   "cell_type": "markdown",
   "metadata": {},
   "source": [
    "### Identifier"
   ]
  },
  {
   "cell_type": "markdown",
   "metadata": {},
   "source": [
    "#### RepoPhlAn"
   ]
  },
  {
   "cell_type": "markdown",
   "metadata": {},
   "source": [
    "Genomes were downloaded from NCBI RefSeq and GenBank using RepoPhlAn."
   ]
  },
  {
   "cell_type": "markdown",
   "metadata": {},
   "source": [
    "Read RepoPhlAn report"
   ]
  },
  {
   "cell_type": "code",
   "execution_count": 6,
   "metadata": {
    "collapsed": false
   },
   "outputs": [
    {
     "data": {
      "text/plain": [
       "(95769, 36)"
      ]
     },
     "execution_count": 6,
     "metadata": {},
     "output_type": "execute_result"
    }
   ],
   "source": [
    "meta = pd.read_table(repophlan_fp, index_col=0).sort_index()\n",
    "meta.shape"
   ]
  },
  {
   "cell_type": "markdown",
   "metadata": {},
   "source": [
    "Select and reorder fields"
   ]
  },
  {
   "cell_type": "code",
   "execution_count": 7,
   "metadata": {
    "collapsed": false
   },
   "outputs": [
    {
     "data": {
      "text/plain": [
       "'all_coding_data, all_data, asm_name, ass_id, assembly_accession, assembly_level, bioproject, biosample, dwlf, faa_lname, ffn_lname, fna_lname, frn_lname, ftp_path, gbrs_paired_asm, genome, genome_rep, infraspecific_name, isolate, organism_name, outdir, paired_asm_comp, refseq_category, release_type, score_faa, score_fna, score_rrna, score_trna, seq_rel_date, species_taxid, submitter, taxid, taxonomy, version_status, wgs_master, excluded_from_refseq'"
      ]
     },
     "execution_count": 7,
     "metadata": {},
     "output_type": "execute_result"
    }
   ],
   "source": [
    "', '.join(meta.columns)"
   ]
  },
  {
   "cell_type": "code",
   "execution_count": 8,
   "metadata": {
    "collapsed": true
   },
   "outputs": [],
   "source": [
    "fields = {\n",
    "    'identity': ['asm_name', 'assembly_accession', 'bioproject', 'biosample', 'wgs_master', 'seq_rel_date',\n",
    "                 'submitter', 'ftp_path'],\n",
    "    'category': ['assembly_level', 'genome_rep', 'refseq_category', 'release_type'],\n",
    "    'taxonomy': ['taxid', 'species_taxid', 'organism_name', 'infraspecific_name', 'isolate'],\n",
    "    'statistics': ['score_faa', 'score_fna', 'score_rrna', 'score_trna'],\n",
    "    'extra': []\n",
    "}"
   ]
  },
  {
   "cell_type": "code",
   "execution_count": 9,
   "metadata": {
    "collapsed": true
   },
   "outputs": [],
   "source": [
    "def field_order():\n",
    "    return fields['identity'] + fields['category'] + fields['taxonomy'] + fields['statistics'] + fields['extra']"
   ]
  },
  {
   "cell_type": "code",
   "execution_count": 10,
   "metadata": {
    "collapsed": false
   },
   "outputs": [
    {
     "data": {
      "text/html": [
       "<div>\n",
       "<style scoped>\n",
       "    .dataframe tbody tr th:only-of-type {\n",
       "        vertical-align: middle;\n",
       "    }\n",
       "\n",
       "    .dataframe tbody tr th {\n",
       "        vertical-align: top;\n",
       "    }\n",
       "\n",
       "    .dataframe thead th {\n",
       "        text-align: right;\n",
       "    }\n",
       "</style>\n",
       "<table border=\"1\" class=\"dataframe\">\n",
       "  <thead>\n",
       "    <tr style=\"text-align: right;\">\n",
       "      <th></th>\n",
       "      <th>asm_name</th>\n",
       "      <th>assembly_accession</th>\n",
       "      <th>bioproject</th>\n",
       "      <th>biosample</th>\n",
       "      <th>wgs_master</th>\n",
       "      <th>seq_rel_date</th>\n",
       "      <th>submitter</th>\n",
       "      <th>ftp_path</th>\n",
       "      <th>assembly_level</th>\n",
       "      <th>genome_rep</th>\n",
       "      <th>...</th>\n",
       "      <th>release_type</th>\n",
       "      <th>taxid</th>\n",
       "      <th>species_taxid</th>\n",
       "      <th>organism_name</th>\n",
       "      <th>infraspecific_name</th>\n",
       "      <th>isolate</th>\n",
       "      <th>score_faa</th>\n",
       "      <th>score_fna</th>\n",
       "      <th>score_rrna</th>\n",
       "      <th>score_trna</th>\n",
       "    </tr>\n",
       "    <tr>\n",
       "      <th>#genome</th>\n",
       "      <th></th>\n",
       "      <th></th>\n",
       "      <th></th>\n",
       "      <th></th>\n",
       "      <th></th>\n",
       "      <th></th>\n",
       "      <th></th>\n",
       "      <th></th>\n",
       "      <th></th>\n",
       "      <th></th>\n",
       "      <th></th>\n",
       "      <th></th>\n",
       "      <th></th>\n",
       "      <th></th>\n",
       "      <th></th>\n",
       "      <th></th>\n",
       "      <th></th>\n",
       "      <th></th>\n",
       "      <th></th>\n",
       "      <th></th>\n",
       "      <th></th>\n",
       "    </tr>\n",
       "  </thead>\n",
       "  <tbody>\n",
       "    <tr>\n",
       "      <th>G000001985</th>\n",
       "      <td>JCVI-PMFA1-2.0</td>\n",
       "      <td>GCF_000001985.1</td>\n",
       "      <td>PRJNA32665</td>\n",
       "      <td>SAMN02953685</td>\n",
       "      <td>ABAR00000000.1</td>\n",
       "      <td>2008/10/29</td>\n",
       "      <td>J. Craig Venter Institute</td>\n",
       "      <td>ftp://ftp.ncbi.nlm.nih.gov/genomes/all/GCF/000...</td>\n",
       "      <td>Scaffold</td>\n",
       "      <td>Full</td>\n",
       "      <td>...</td>\n",
       "      <td>Major</td>\n",
       "      <td>441960</td>\n",
       "      <td>37727</td>\n",
       "      <td>Talaromyces marneffei ATCC 18224</td>\n",
       "      <td>strain=ATCC 18224</td>\n",
       "      <td>NaN</td>\n",
       "      <td>1.00</td>\n",
       "      <td>0.829</td>\n",
       "      <td>0.1</td>\n",
       "      <td>0.9</td>\n",
       "    </tr>\n",
       "    <tr>\n",
       "      <th>G000002415</th>\n",
       "      <td>ASM241v2</td>\n",
       "      <td>GCF_000002415.2</td>\n",
       "      <td>PRJNA20431</td>\n",
       "      <td>SAMN02953638</td>\n",
       "      <td>AAKM00000000.1</td>\n",
       "      <td>2009/05/06</td>\n",
       "      <td>TIGR</td>\n",
       "      <td>ftp://ftp.ncbi.nlm.nih.gov/genomes/all/GCF/000...</td>\n",
       "      <td>Chromosome</td>\n",
       "      <td>Full</td>\n",
       "      <td>...</td>\n",
       "      <td>Major</td>\n",
       "      <td>5855</td>\n",
       "      <td>5855</td>\n",
       "      <td>Plasmodium vivax</td>\n",
       "      <td>NaN</td>\n",
       "      <td>Salvador I</td>\n",
       "      <td>0.98</td>\n",
       "      <td>0.494</td>\n",
       "      <td>0.1</td>\n",
       "      <td>1.0</td>\n",
       "    </tr>\n",
       "    <tr>\n",
       "      <th>G000002495</th>\n",
       "      <td>MG8</td>\n",
       "      <td>GCF_000002495.2</td>\n",
       "      <td>PRJNA1433</td>\n",
       "      <td>SAMN02953596</td>\n",
       "      <td>AACU00000000.3</td>\n",
       "      <td>2011/10/14</td>\n",
       "      <td>International Rice Blast Genome Consortium</td>\n",
       "      <td>ftp://ftp.ncbi.nlm.nih.gov/genomes/all/GCF/000...</td>\n",
       "      <td>Chromosome</td>\n",
       "      <td>Full</td>\n",
       "      <td>...</td>\n",
       "      <td>Major</td>\n",
       "      <td>242507</td>\n",
       "      <td>318829</td>\n",
       "      <td>Magnaporthe oryzae 70-15</td>\n",
       "      <td>strain=70-15</td>\n",
       "      <td>NaN</td>\n",
       "      <td>1.00</td>\n",
       "      <td>0.950</td>\n",
       "      <td>0.4</td>\n",
       "      <td>1.0</td>\n",
       "    </tr>\n",
       "  </tbody>\n",
       "</table>\n",
       "<p>3 rows × 21 columns</p>\n",
       "</div>"
      ],
      "text/plain": [
       "                  asm_name assembly_accession  bioproject     biosample  \\\n",
       "#genome                                                                   \n",
       "G000001985  JCVI-PMFA1-2.0    GCF_000001985.1  PRJNA32665  SAMN02953685   \n",
       "G000002415        ASM241v2    GCF_000002415.2  PRJNA20431  SAMN02953638   \n",
       "G000002495             MG8    GCF_000002495.2   PRJNA1433  SAMN02953596   \n",
       "\n",
       "                wgs_master seq_rel_date  \\\n",
       "#genome                                   \n",
       "G000001985  ABAR00000000.1   2008/10/29   \n",
       "G000002415  AAKM00000000.1   2009/05/06   \n",
       "G000002495  AACU00000000.3   2011/10/14   \n",
       "\n",
       "                                             submitter  \\\n",
       "#genome                                                  \n",
       "G000001985                   J. Craig Venter Institute   \n",
       "G000002415                                        TIGR   \n",
       "G000002495  International Rice Blast Genome Consortium   \n",
       "\n",
       "                                                     ftp_path assembly_level  \\\n",
       "#genome                                                                        \n",
       "G000001985  ftp://ftp.ncbi.nlm.nih.gov/genomes/all/GCF/000...       Scaffold   \n",
       "G000002415  ftp://ftp.ncbi.nlm.nih.gov/genomes/all/GCF/000...     Chromosome   \n",
       "G000002495  ftp://ftp.ncbi.nlm.nih.gov/genomes/all/GCF/000...     Chromosome   \n",
       "\n",
       "           genome_rep     ...     release_type   taxid  species_taxid  \\\n",
       "#genome                   ...                                           \n",
       "G000001985       Full     ...            Major  441960          37727   \n",
       "G000002415       Full     ...            Major    5855           5855   \n",
       "G000002495       Full     ...            Major  242507         318829   \n",
       "\n",
       "                               organism_name infraspecific_name     isolate  \\\n",
       "#genome                                                                       \n",
       "G000001985  Talaromyces marneffei ATCC 18224  strain=ATCC 18224         NaN   \n",
       "G000002415                  Plasmodium vivax                NaN  Salvador I   \n",
       "G000002495          Magnaporthe oryzae 70-15       strain=70-15         NaN   \n",
       "\n",
       "           score_faa  score_fna  score_rrna  score_trna  \n",
       "#genome                                                  \n",
       "G000001985      1.00      0.829         0.1         0.9  \n",
       "G000002415      0.98      0.494         0.1         1.0  \n",
       "G000002495      1.00      0.950         0.4         1.0  \n",
       "\n",
       "[3 rows x 21 columns]"
      ]
     },
     "execution_count": 10,
     "metadata": {},
     "output_type": "execute_result"
    }
   ],
   "source": [
    "meta = meta[field_order()]\n",
    "meta.head(3)"
   ]
  },
  {
   "cell_type": "markdown",
   "metadata": {},
   "source": [
    "#### IMG"
   ]
  },
  {
   "cell_type": "markdown",
   "metadata": {},
   "source": [
    "Add IMG identifiers"
   ]
  },
  {
   "cell_type": "code",
   "execution_count": 11,
   "metadata": {
    "collapsed": false
   },
   "outputs": [
    {
     "data": {
      "text/plain": [
       "57859"
      ]
     },
     "execution_count": 11,
     "metadata": {},
     "output_type": "execute_result"
    }
   ],
   "source": [
    "with open(img_fp, 'r') as f:\n",
    "    img = dict(x.split('\\t') for x in f.read().splitlines())\n",
    "len(img)"
   ]
  },
  {
   "cell_type": "code",
   "execution_count": 12,
   "metadata": {
    "collapsed": true
   },
   "outputs": [],
   "source": [
    "meta['img_id'] = meta.index.to_series().map(img)\n",
    "fields['identity'].append('img_id')"
   ]
  },
  {
   "cell_type": "markdown",
   "metadata": {},
   "source": [
    "#### GTDB"
   ]
  },
  {
   "cell_type": "markdown",
   "metadata": {},
   "source": [
    "Add GTDB r86.1 identifiers"
   ]
  },
  {
   "cell_type": "code",
   "execution_count": 13,
   "metadata": {
    "collapsed": false
   },
   "outputs": [
    {
     "data": {
      "text/plain": [
       "124185"
      ]
     },
     "execution_count": 13,
     "metadata": {},
     "output_type": "execute_result"
    }
   ],
   "source": [
    "with open(gtdb_fp, 'r') as f:\n",
    "    gtdb = dict(x.split('\\t') for x in f.read().splitlines())\n",
    "len(gtdb)"
   ]
  },
  {
   "cell_type": "code",
   "execution_count": 14,
   "metadata": {
    "collapsed": true
   },
   "outputs": [],
   "source": [
    "meta['gtdb_id'] = meta.index.to_series().map(gtdb)\n",
    "fields['identity'].append('gtdb_id')"
   ]
  },
  {
   "cell_type": "code",
   "execution_count": 15,
   "metadata": {
    "collapsed": true
   },
   "outputs": [],
   "source": [
    "meta = meta[field_order()]"
   ]
  },
  {
   "cell_type": "markdown",
   "metadata": {},
   "source": [
    "#### Scope"
   ]
  },
  {
   "cell_type": "code",
   "execution_count": 16,
   "metadata": {
    "collapsed": false
   },
   "outputs": [
    {
     "data": {
      "text/plain": [
       "Monoisolate     58508\n",
       "Multiisolate    12908\n",
       "Multispecies     8720\n",
       "Environment      5753\n",
       "SingleCell        215\n",
       "Other              70\n",
       "Synthetic           4\n",
       "Name: scope, dtype: int64"
      ]
     },
     "execution_count": 16,
     "metadata": {},
     "output_type": "execute_result"
    }
   ],
   "source": [
    "scope = pd.read_table(scope_fp, index_col=0, names=['scope'])\n",
    "scope['scope'].value_counts()"
   ]
  },
  {
   "cell_type": "code",
   "execution_count": 17,
   "metadata": {
    "collapsed": true
   },
   "outputs": [],
   "source": [
    "fields['identity'].append('scope')"
   ]
  },
  {
   "cell_type": "code",
   "execution_count": 18,
   "metadata": {
    "collapsed": false,
    "scrolled": false
   },
   "outputs": [
    {
     "data": {
      "text/html": [
       "<div>\n",
       "<style scoped>\n",
       "    .dataframe tbody tr th:only-of-type {\n",
       "        vertical-align: middle;\n",
       "    }\n",
       "\n",
       "    .dataframe tbody tr th {\n",
       "        vertical-align: top;\n",
       "    }\n",
       "\n",
       "    .dataframe thead th {\n",
       "        text-align: right;\n",
       "    }\n",
       "</style>\n",
       "<table border=\"1\" class=\"dataframe\">\n",
       "  <thead>\n",
       "    <tr style=\"text-align: right;\">\n",
       "      <th></th>\n",
       "      <th>asm_name</th>\n",
       "      <th>assembly_accession</th>\n",
       "      <th>bioproject</th>\n",
       "      <th>biosample</th>\n",
       "      <th>wgs_master</th>\n",
       "      <th>seq_rel_date</th>\n",
       "      <th>submitter</th>\n",
       "      <th>ftp_path</th>\n",
       "      <th>img_id</th>\n",
       "      <th>gtdb_id</th>\n",
       "      <th>scope</th>\n",
       "    </tr>\n",
       "  </thead>\n",
       "  <tbody>\n",
       "    <tr>\n",
       "      <th>G000001985</th>\n",
       "      <td>JCVI-PMFA1-2.0</td>\n",
       "      <td>GCF_000001985.1</td>\n",
       "      <td>PRJNA32665</td>\n",
       "      <td>SAMN02953685</td>\n",
       "      <td>ABAR00000000.1</td>\n",
       "      <td>2008/10/29</td>\n",
       "      <td>J. Craig Venter Institute</td>\n",
       "      <td>ftp://ftp.ncbi.nlm.nih.gov/genomes/all/GCF/000...</td>\n",
       "      <td>NaN</td>\n",
       "      <td>NaN</td>\n",
       "      <td>NaN</td>\n",
       "    </tr>\n",
       "    <tr>\n",
       "      <th>G000002415</th>\n",
       "      <td>ASM241v2</td>\n",
       "      <td>GCF_000002415.2</td>\n",
       "      <td>PRJNA20431</td>\n",
       "      <td>SAMN02953638</td>\n",
       "      <td>AAKM00000000.1</td>\n",
       "      <td>2009/05/06</td>\n",
       "      <td>TIGR</td>\n",
       "      <td>ftp://ftp.ncbi.nlm.nih.gov/genomes/all/GCF/000...</td>\n",
       "      <td>NaN</td>\n",
       "      <td>NaN</td>\n",
       "      <td>NaN</td>\n",
       "    </tr>\n",
       "    <tr>\n",
       "      <th>G000002495</th>\n",
       "      <td>MG8</td>\n",
       "      <td>GCF_000002495.2</td>\n",
       "      <td>PRJNA1433</td>\n",
       "      <td>SAMN02953596</td>\n",
       "      <td>AACU00000000.3</td>\n",
       "      <td>2011/10/14</td>\n",
       "      <td>International Rice Blast Genome Consortium</td>\n",
       "      <td>ftp://ftp.ncbi.nlm.nih.gov/genomes/all/GCF/000...</td>\n",
       "      <td>NaN</td>\n",
       "      <td>NaN</td>\n",
       "      <td>NaN</td>\n",
       "    </tr>\n",
       "  </tbody>\n",
       "</table>\n",
       "</div>"
      ],
      "text/plain": [
       "                  asm_name assembly_accession  bioproject     biosample  \\\n",
       "G000001985  JCVI-PMFA1-2.0    GCF_000001985.1  PRJNA32665  SAMN02953685   \n",
       "G000002415        ASM241v2    GCF_000002415.2  PRJNA20431  SAMN02953638   \n",
       "G000002495             MG8    GCF_000002495.2   PRJNA1433  SAMN02953596   \n",
       "\n",
       "                wgs_master seq_rel_date  \\\n",
       "G000001985  ABAR00000000.1   2008/10/29   \n",
       "G000002415  AAKM00000000.1   2009/05/06   \n",
       "G000002495  AACU00000000.3   2011/10/14   \n",
       "\n",
       "                                             submitter  \\\n",
       "G000001985                   J. Craig Venter Institute   \n",
       "G000002415                                        TIGR   \n",
       "G000002495  International Rice Blast Genome Consortium   \n",
       "\n",
       "                                                     ftp_path img_id gtdb_id  \\\n",
       "G000001985  ftp://ftp.ncbi.nlm.nih.gov/genomes/all/GCF/000...    NaN     NaN   \n",
       "G000002415  ftp://ftp.ncbi.nlm.nih.gov/genomes/all/GCF/000...    NaN     NaN   \n",
       "G000002495  ftp://ftp.ncbi.nlm.nih.gov/genomes/all/GCF/000...    NaN     NaN   \n",
       "\n",
       "           scope  \n",
       "G000001985   NaN  \n",
       "G000002415   NaN  \n",
       "G000002495   NaN  "
      ]
     },
     "execution_count": 18,
     "metadata": {},
     "output_type": "execute_result"
    }
   ],
   "source": [
    "meta = pd.concat([meta, scope], axis=1, sort=False)[field_order()]\n",
    "meta[fields['identity']].head(3)"
   ]
  },
  {
   "cell_type": "markdown",
   "metadata": {},
   "source": [
    "### Taxonomy"
   ]
  },
  {
   "cell_type": "markdown",
   "metadata": {},
   "source": [
    "#### NCBI taxonomy"
   ]
  },
  {
   "cell_type": "markdown",
   "metadata": {},
   "source": [
    "Add NCBI taxonomy"
   ]
  },
  {
   "cell_type": "code",
   "execution_count": 19,
   "metadata": {
    "collapsed": false
   },
   "outputs": [
    {
     "data": {
      "text/html": [
       "<div>\n",
       "<style scoped>\n",
       "    .dataframe tbody tr th:only-of-type {\n",
       "        vertical-align: middle;\n",
       "    }\n",
       "\n",
       "    .dataframe tbody tr th {\n",
       "        vertical-align: top;\n",
       "    }\n",
       "\n",
       "    .dataframe thead th {\n",
       "        text-align: right;\n",
       "    }\n",
       "</style>\n",
       "<table border=\"1\" class=\"dataframe\">\n",
       "  <thead>\n",
       "    <tr style=\"text-align: right;\">\n",
       "      <th></th>\n",
       "      <th>superkingdom</th>\n",
       "      <th>phylum</th>\n",
       "      <th>class</th>\n",
       "      <th>order</th>\n",
       "      <th>family</th>\n",
       "      <th>genus</th>\n",
       "      <th>species</th>\n",
       "    </tr>\n",
       "    <tr>\n",
       "      <th>genome</th>\n",
       "      <th></th>\n",
       "      <th></th>\n",
       "      <th></th>\n",
       "      <th></th>\n",
       "      <th></th>\n",
       "      <th></th>\n",
       "      <th></th>\n",
       "    </tr>\n",
       "  </thead>\n",
       "  <tbody>\n",
       "    <tr>\n",
       "      <th>G000001985</th>\n",
       "      <td>Eukaryota</td>\n",
       "      <td>Ascomycota</td>\n",
       "      <td>Eurotiomycetes</td>\n",
       "      <td>Eurotiales</td>\n",
       "      <td>Trichocomaceae</td>\n",
       "      <td>Talaromyces</td>\n",
       "      <td>Talaromyces marneffei</td>\n",
       "    </tr>\n",
       "    <tr>\n",
       "      <th>G000002415</th>\n",
       "      <td>Eukaryota</td>\n",
       "      <td>Apicomplexa</td>\n",
       "      <td>Aconoidasida</td>\n",
       "      <td>Haemosporida</td>\n",
       "      <td>Plasmodiidae</td>\n",
       "      <td>Plasmodium</td>\n",
       "      <td>Plasmodium vivax</td>\n",
       "    </tr>\n",
       "    <tr>\n",
       "      <th>G000002495</th>\n",
       "      <td>Eukaryota</td>\n",
       "      <td>Ascomycota</td>\n",
       "      <td>Sordariomycetes</td>\n",
       "      <td>Magnaporthales</td>\n",
       "      <td>Magnaporthaceae</td>\n",
       "      <td>Magnaporthe</td>\n",
       "      <td>Magnaporthe oryzae</td>\n",
       "    </tr>\n",
       "  </tbody>\n",
       "</table>\n",
       "</div>"
      ],
      "text/plain": [
       "           superkingdom       phylum            class           order  \\\n",
       "genome                                                                  \n",
       "G000001985    Eukaryota   Ascomycota   Eurotiomycetes      Eurotiales   \n",
       "G000002415    Eukaryota  Apicomplexa     Aconoidasida    Haemosporida   \n",
       "G000002495    Eukaryota   Ascomycota  Sordariomycetes  Magnaporthales   \n",
       "\n",
       "                     family        genus                species  \n",
       "genome                                                           \n",
       "G000001985   Trichocomaceae  Talaromyces  Talaromyces marneffei  \n",
       "G000002415     Plasmodiidae   Plasmodium       Plasmodium vivax  \n",
       "G000002495  Magnaporthaceae  Magnaporthe     Magnaporthe oryzae  "
      ]
     },
     "execution_count": 19,
     "metadata": {},
     "output_type": "execute_result"
    }
   ],
   "source": [
    "rank_names = pd.read_table(taxonomy_fp, index_col=0).drop('kingdom', axis=1)\n",
    "rank_names.head(3)"
   ]
  },
  {
   "cell_type": "code",
   "execution_count": 20,
   "metadata": {
    "collapsed": true
   },
   "outputs": [],
   "source": [
    "fields['taxonomy'] += rank_names.columns.tolist()"
   ]
  },
  {
   "cell_type": "code",
   "execution_count": 21,
   "metadata": {
    "collapsed": false,
    "scrolled": true
   },
   "outputs": [
    {
     "data": {
      "text/html": [
       "<div>\n",
       "<style scoped>\n",
       "    .dataframe tbody tr th:only-of-type {\n",
       "        vertical-align: middle;\n",
       "    }\n",
       "\n",
       "    .dataframe tbody tr th {\n",
       "        vertical-align: top;\n",
       "    }\n",
       "\n",
       "    .dataframe thead th {\n",
       "        text-align: right;\n",
       "    }\n",
       "</style>\n",
       "<table border=\"1\" class=\"dataframe\">\n",
       "  <thead>\n",
       "    <tr style=\"text-align: right;\">\n",
       "      <th></th>\n",
       "      <th>taxid</th>\n",
       "      <th>species_taxid</th>\n",
       "      <th>organism_name</th>\n",
       "      <th>infraspecific_name</th>\n",
       "      <th>isolate</th>\n",
       "      <th>superkingdom</th>\n",
       "      <th>phylum</th>\n",
       "      <th>class</th>\n",
       "      <th>order</th>\n",
       "      <th>family</th>\n",
       "      <th>genus</th>\n",
       "      <th>species</th>\n",
       "    </tr>\n",
       "    <tr>\n",
       "      <th>genome</th>\n",
       "      <th></th>\n",
       "      <th></th>\n",
       "      <th></th>\n",
       "      <th></th>\n",
       "      <th></th>\n",
       "      <th></th>\n",
       "      <th></th>\n",
       "      <th></th>\n",
       "      <th></th>\n",
       "      <th></th>\n",
       "      <th></th>\n",
       "      <th></th>\n",
       "    </tr>\n",
       "  </thead>\n",
       "  <tbody>\n",
       "    <tr>\n",
       "      <th>G000001985</th>\n",
       "      <td>441960</td>\n",
       "      <td>37727</td>\n",
       "      <td>Talaromyces marneffei ATCC 18224</td>\n",
       "      <td>strain=ATCC 18224</td>\n",
       "      <td>NaN</td>\n",
       "      <td>Eukaryota</td>\n",
       "      <td>Ascomycota</td>\n",
       "      <td>Eurotiomycetes</td>\n",
       "      <td>Eurotiales</td>\n",
       "      <td>Trichocomaceae</td>\n",
       "      <td>Talaromyces</td>\n",
       "      <td>Talaromyces marneffei</td>\n",
       "    </tr>\n",
       "    <tr>\n",
       "      <th>G000002415</th>\n",
       "      <td>5855</td>\n",
       "      <td>5855</td>\n",
       "      <td>Plasmodium vivax</td>\n",
       "      <td>NaN</td>\n",
       "      <td>Salvador I</td>\n",
       "      <td>Eukaryota</td>\n",
       "      <td>Apicomplexa</td>\n",
       "      <td>Aconoidasida</td>\n",
       "      <td>Haemosporida</td>\n",
       "      <td>Plasmodiidae</td>\n",
       "      <td>Plasmodium</td>\n",
       "      <td>Plasmodium vivax</td>\n",
       "    </tr>\n",
       "    <tr>\n",
       "      <th>G000002495</th>\n",
       "      <td>242507</td>\n",
       "      <td>318829</td>\n",
       "      <td>Magnaporthe oryzae 70-15</td>\n",
       "      <td>strain=70-15</td>\n",
       "      <td>NaN</td>\n",
       "      <td>Eukaryota</td>\n",
       "      <td>Ascomycota</td>\n",
       "      <td>Sordariomycetes</td>\n",
       "      <td>Magnaporthales</td>\n",
       "      <td>Magnaporthaceae</td>\n",
       "      <td>Magnaporthe</td>\n",
       "      <td>Magnaporthe oryzae</td>\n",
       "    </tr>\n",
       "    <tr>\n",
       "      <th>G000002515</th>\n",
       "      <td>28985</td>\n",
       "      <td>28985</td>\n",
       "      <td>Kluyveromyces lactis</td>\n",
       "      <td>strain=NRRL Y-1140</td>\n",
       "      <td>NaN</td>\n",
       "      <td>Eukaryota</td>\n",
       "      <td>Ascomycota</td>\n",
       "      <td>Saccharomycetes</td>\n",
       "      <td>Saccharomycetales</td>\n",
       "      <td>Saccharomycetaceae</td>\n",
       "      <td>Kluyveromyces</td>\n",
       "      <td>Kluyveromyces lactis</td>\n",
       "    </tr>\n",
       "    <tr>\n",
       "      <th>G000002525</th>\n",
       "      <td>284591</td>\n",
       "      <td>4952</td>\n",
       "      <td>Yarrowia lipolytica CLIB122</td>\n",
       "      <td>strain=CLIB122</td>\n",
       "      <td>NaN</td>\n",
       "      <td>Eukaryota</td>\n",
       "      <td>Ascomycota</td>\n",
       "      <td>Saccharomycetes</td>\n",
       "      <td>Saccharomycetales</td>\n",
       "      <td>Dipodascaceae</td>\n",
       "      <td>Yarrowia</td>\n",
       "      <td>Yarrowia lipolytica</td>\n",
       "    </tr>\n",
       "  </tbody>\n",
       "</table>\n",
       "</div>"
      ],
      "text/plain": [
       "             taxid  species_taxid                     organism_name  \\\n",
       "genome                                                                \n",
       "G000001985  441960          37727  Talaromyces marneffei ATCC 18224   \n",
       "G000002415    5855           5855                  Plasmodium vivax   \n",
       "G000002495  242507         318829          Magnaporthe oryzae 70-15   \n",
       "G000002515   28985          28985              Kluyveromyces lactis   \n",
       "G000002525  284591           4952       Yarrowia lipolytica CLIB122   \n",
       "\n",
       "            infraspecific_name     isolate superkingdom       phylum  \\\n",
       "genome                                                                 \n",
       "G000001985   strain=ATCC 18224         NaN    Eukaryota   Ascomycota   \n",
       "G000002415                 NaN  Salvador I    Eukaryota  Apicomplexa   \n",
       "G000002495        strain=70-15         NaN    Eukaryota   Ascomycota   \n",
       "G000002515  strain=NRRL Y-1140         NaN    Eukaryota   Ascomycota   \n",
       "G000002525      strain=CLIB122         NaN    Eukaryota   Ascomycota   \n",
       "\n",
       "                      class              order              family  \\\n",
       "genome                                                               \n",
       "G000001985   Eurotiomycetes         Eurotiales      Trichocomaceae   \n",
       "G000002415     Aconoidasida       Haemosporida        Plasmodiidae   \n",
       "G000002495  Sordariomycetes     Magnaporthales     Magnaporthaceae   \n",
       "G000002515  Saccharomycetes  Saccharomycetales  Saccharomycetaceae   \n",
       "G000002525  Saccharomycetes  Saccharomycetales       Dipodascaceae   \n",
       "\n",
       "                    genus                species  \n",
       "genome                                            \n",
       "G000001985    Talaromyces  Talaromyces marneffei  \n",
       "G000002415     Plasmodium       Plasmodium vivax  \n",
       "G000002495    Magnaporthe     Magnaporthe oryzae  \n",
       "G000002515  Kluyveromyces   Kluyveromyces lactis  \n",
       "G000002525       Yarrowia    Yarrowia lipolytica  "
      ]
     },
     "execution_count": 21,
     "metadata": {},
     "output_type": "execute_result"
    }
   ],
   "source": [
    "meta = pd.concat([meta, rank_names], axis=1, sort=False)[field_order()]\n",
    "meta[fields['taxonomy']].head()"
   ]
  },
  {
   "cell_type": "markdown",
   "metadata": {},
   "source": [
    "#### Unclassified taxa"
   ]
  },
  {
   "cell_type": "markdown",
   "metadata": {},
   "source": [
    "\"Unclassified taxa\" are defined as those without phylum to genus classifications."
   ]
  },
  {
   "cell_type": "code",
   "execution_count": 22,
   "metadata": {
    "collapsed": true
   },
   "outputs": [],
   "source": [
    "classified = meta[['phylum', 'class', 'order', 'family', 'genus']].dropna(how='all').index.tolist()"
   ]
  },
  {
   "cell_type": "code",
   "execution_count": 23,
   "metadata": {
    "collapsed": false
   },
   "outputs": [
    {
     "data": {
      "text/plain": [
       "True     93571\n",
       "False     2198\n",
       "Name: classified, dtype: int64"
      ]
     },
     "execution_count": 23,
     "metadata": {},
     "output_type": "execute_result"
    }
   ],
   "source": [
    "meta['classified'] = meta.index.isin(classified)\n",
    "meta['classified'].value_counts()"
   ]
  },
  {
   "cell_type": "code",
   "execution_count": 24,
   "metadata": {
    "collapsed": true
   },
   "outputs": [],
   "source": [
    "fields['taxonomy'].append('classified')"
   ]
  },
  {
   "cell_type": "markdown",
   "metadata": {},
   "source": [
    "#### Unique name"
   ]
  },
  {
   "cell_type": "markdown",
   "metadata": {},
   "source": [
    "The following columns matter:"
   ]
  },
  {
   "cell_type": "code",
   "execution_count": 25,
   "metadata": {
    "collapsed": false
   },
   "outputs": [
    {
     "data": {
      "text/html": [
       "<div>\n",
       "<style scoped>\n",
       "    .dataframe tbody tr th:only-of-type {\n",
       "        vertical-align: middle;\n",
       "    }\n",
       "\n",
       "    .dataframe tbody tr th {\n",
       "        vertical-align: top;\n",
       "    }\n",
       "\n",
       "    .dataframe thead th {\n",
       "        text-align: right;\n",
       "    }\n",
       "</style>\n",
       "<table border=\"1\" class=\"dataframe\">\n",
       "  <thead>\n",
       "    <tr style=\"text-align: right;\">\n",
       "      <th></th>\n",
       "      <th>organism_name</th>\n",
       "      <th>infraspecific_name</th>\n",
       "      <th>isolate</th>\n",
       "      <th>asm_name</th>\n",
       "    </tr>\n",
       "    <tr>\n",
       "      <th>genome</th>\n",
       "      <th></th>\n",
       "      <th></th>\n",
       "      <th></th>\n",
       "      <th></th>\n",
       "    </tr>\n",
       "  </thead>\n",
       "  <tbody>\n",
       "    <tr>\n",
       "      <th>G000001985</th>\n",
       "      <td>Talaromyces marneffei ATCC 18224</td>\n",
       "      <td>strain=ATCC 18224</td>\n",
       "      <td>NaN</td>\n",
       "      <td>JCVI-PMFA1-2.0</td>\n",
       "    </tr>\n",
       "    <tr>\n",
       "      <th>G000002415</th>\n",
       "      <td>Plasmodium vivax</td>\n",
       "      <td>NaN</td>\n",
       "      <td>Salvador I</td>\n",
       "      <td>ASM241v2</td>\n",
       "    </tr>\n",
       "    <tr>\n",
       "      <th>G000002495</th>\n",
       "      <td>Magnaporthe oryzae 70-15</td>\n",
       "      <td>strain=70-15</td>\n",
       "      <td>NaN</td>\n",
       "      <td>MG8</td>\n",
       "    </tr>\n",
       "    <tr>\n",
       "      <th>G000002515</th>\n",
       "      <td>Kluyveromyces lactis</td>\n",
       "      <td>strain=NRRL Y-1140</td>\n",
       "      <td>NaN</td>\n",
       "      <td>ASM251v1</td>\n",
       "    </tr>\n",
       "    <tr>\n",
       "      <th>G000002525</th>\n",
       "      <td>Yarrowia lipolytica CLIB122</td>\n",
       "      <td>strain=CLIB122</td>\n",
       "      <td>NaN</td>\n",
       "      <td>ASM252v1</td>\n",
       "    </tr>\n",
       "  </tbody>\n",
       "</table>\n",
       "</div>"
      ],
      "text/plain": [
       "                               organism_name  infraspecific_name     isolate  \\\n",
       "genome                                                                         \n",
       "G000001985  Talaromyces marneffei ATCC 18224   strain=ATCC 18224         NaN   \n",
       "G000002415                  Plasmodium vivax                 NaN  Salvador I   \n",
       "G000002495          Magnaporthe oryzae 70-15        strain=70-15         NaN   \n",
       "G000002515              Kluyveromyces lactis  strain=NRRL Y-1140         NaN   \n",
       "G000002525       Yarrowia lipolytica CLIB122      strain=CLIB122         NaN   \n",
       "\n",
       "                  asm_name  \n",
       "genome                      \n",
       "G000001985  JCVI-PMFA1-2.0  \n",
       "G000002415        ASM241v2  \n",
       "G000002495             MG8  \n",
       "G000002515        ASM251v1  \n",
       "G000002525        ASM252v1  "
      ]
     },
     "execution_count": 25,
     "metadata": {},
     "output_type": "execute_result"
    }
   ],
   "source": [
    "meta[['organism_name', 'infraspecific_name', 'isolate', 'asm_name']].head()"
   ]
  },
  {
   "cell_type": "markdown",
   "metadata": {},
   "source": [
    "Generate a full name for each genome"
   ]
  },
  {
   "cell_type": "code",
   "execution_count": 26,
   "metadata": {
    "collapsed": true
   },
   "outputs": [],
   "source": [
    "def assign_full_name(row):\n",
    "    name = row.organism_name\n",
    "    \n",
    "    # infraspecific name\n",
    "    infra = row.infraspecific_name\n",
    "    if pd.notnull(infra):\n",
    "        if not '=' in infra:\n",
    "            raise ValueError('Invalid infraspecific name: %s.' % infra)\n",
    "        kind, spp = infra.split('=', 1)\n",
    "        if kind not in ('strain', 'cultivar', 'ecotype'):\n",
    "            raise ValueError('Invalid infraspecific name: %s.' % infra)\n",
    "        if ' (=' in spp:\n",
    "            spp = spp.split(' (=')[0]\n",
    "        if ';' in spp:\n",
    "            spp = spp.split(';')[0]\n",
    "        if not name.endswith(' %s' % spp):\n",
    "            name += ' %s' % spp\n",
    "\n",
    "    # isolate\n",
    "    isolate = row.isolate\n",
    "    if pd.notnull(isolate):\n",
    "        if not name.endswith(' %s' % isolate):\n",
    "            name += ' isolate %s' % isolate\n",
    "\n",
    "    # asm name\n",
    "    if name == row.species:\n",
    "        if row.asm_name not in (row.species, row.organism_name, row.isolate):\n",
    "            name += ' %s' % row.asm_name\n",
    "\n",
    "    return name"
   ]
  },
  {
   "cell_type": "code",
   "execution_count": 27,
   "metadata": {
    "collapsed": false
   },
   "outputs": [
    {
     "data": {
      "text/plain": [
       "genome\n",
       "G000001985       Talaromyces marneffei ATCC 18224\n",
       "G000002415    Plasmodium vivax isolate Salvador I\n",
       "G000002495               Magnaporthe oryzae 70-15\n",
       "G000002515       Kluyveromyces lactis NRRL Y-1140\n",
       "G000002525            Yarrowia lipolytica CLIB122\n",
       "Name: unique_name, dtype: object"
      ]
     },
     "execution_count": 27,
     "metadata": {},
     "output_type": "execute_result"
    }
   ],
   "source": [
    "meta['unique_name'] = meta.apply(assign_full_name, axis=1)\n",
    "meta['unique_name'].head()"
   ]
  },
  {
   "cell_type": "markdown",
   "metadata": {},
   "source": [
    "But there are still duplicates"
   ]
  },
  {
   "cell_type": "code",
   "execution_count": 28,
   "metadata": {
    "collapsed": false
   },
   "outputs": [
    {
     "data": {
      "text/plain": [
       "False    92684\n",
       "True      3085\n",
       "Name: name_is_dup, dtype: int64"
      ]
     },
     "execution_count": 28,
     "metadata": {},
     "output_type": "execute_result"
    }
   ],
   "source": [
    "meta['name_is_dup'] = meta['unique_name'].duplicated(keep=False)\n",
    "meta['name_is_dup'].value_counts()"
   ]
  },
  {
   "cell_type": "markdown",
   "metadata": {},
   "source": [
    "Append ASM name to duplicates"
   ]
  },
  {
   "cell_type": "code",
   "execution_count": 29,
   "metadata": {
    "collapsed": true
   },
   "outputs": [],
   "source": [
    "def append_asm_name(row):\n",
    "    name = row.unique_name\n",
    "    if row.name_is_dup is True:\n",
    "        if row.asm_name not in (row.species, row.organism_name, row.isolate):\n",
    "            name += ' %s' % row.asm_name\n",
    "    return name"
   ]
  },
  {
   "cell_type": "code",
   "execution_count": 30,
   "metadata": {
    "collapsed": false
   },
   "outputs": [
    {
     "data": {
      "text/plain": [
       "False    95710\n",
       "True        59\n",
       "Name: name_is_dup, dtype: int64"
      ]
     },
     "execution_count": 30,
     "metadata": {},
     "output_type": "execute_result"
    }
   ],
   "source": [
    "meta['unique_name'] = meta.apply(append_asm_name, axis=1)\n",
    "meta['name_is_dup'] = meta['unique_name'].duplicated(keep=False)\n",
    "meta['name_is_dup'].value_counts()"
   ]
  },
  {
   "cell_type": "markdown",
   "metadata": {},
   "source": [
    "Finally, append genome ID to duplicates"
   ]
  },
  {
   "cell_type": "code",
   "execution_count": 31,
   "metadata": {
    "collapsed": true
   },
   "outputs": [],
   "source": [
    "def append_genome_id(row):\n",
    "    name = row.unique_name\n",
    "    if row.name_is_dup is True:\n",
    "            name += ' (%s)' % row.name\n",
    "    return name"
   ]
  },
  {
   "cell_type": "code",
   "execution_count": 32,
   "metadata": {
    "collapsed": false
   },
   "outputs": [
    {
     "data": {
      "text/plain": [
       "False    95769\n",
       "Name: name_is_dup, dtype: int64"
      ]
     },
     "execution_count": 32,
     "metadata": {},
     "output_type": "execute_result"
    }
   ],
   "source": [
    "meta['unique_name'] = meta.apply(append_genome_id, axis=1)\n",
    "meta['name_is_dup'] = meta['unique_name'].duplicated(keep=False)\n",
    "meta['name_is_dup'].value_counts()"
   ]
  },
  {
   "cell_type": "code",
   "execution_count": 33,
   "metadata": {
    "collapsed": true
   },
   "outputs": [],
   "source": [
    "meta.drop('name_is_dup', axis=1, inplace=True)\n",
    "fields['taxonomy'].append('unique_name')"
   ]
  },
  {
   "cell_type": "code",
   "execution_count": 34,
   "metadata": {
    "collapsed": true
   },
   "outputs": [],
   "source": [
    "meta['unique_name'].to_csv('naming.tsv', sep='\\t')"
   ]
  },
  {
   "cell_type": "markdown",
   "metadata": {},
   "source": [
    "#### Major groups"
   ]
  },
  {
   "cell_type": "code",
   "execution_count": 35,
   "metadata": {
    "collapsed": false
   },
   "outputs": [
    {
     "data": {
      "text/plain": [
       "Eubacteria    82720\n",
       "CPR            2356\n",
       "Archaea        1124\n",
       "Name: lv1_group, dtype: int64"
      ]
     },
     "execution_count": 35,
     "metadata": {},
     "output_type": "execute_result"
    }
   ],
   "source": [
    "lv1 = pd.read_table(lv1_fp, index_col=0, names=['lv1_group'])\n",
    "lv1['lv1_group'].value_counts()"
   ]
  },
  {
   "cell_type": "code",
   "execution_count": 36,
   "metadata": {
    "collapsed": false,
    "scrolled": true
   },
   "outputs": [
    {
     "data": {
      "text/plain": [
       "Proteobacteria    37109\n",
       "Firmicutes        28867\n",
       "Actinobacteria    10854\n",
       "Bacteroidetes      2091\n",
       "Parcubacteria      1356\n",
       "Bacteria            963\n",
       "Spirochaetes        743\n",
       "Euryarchaeota       708\n",
       "Microgenomates      705\n",
       "Terrabacteria       519\n",
       "Cyanobacteria       479\n",
       "PVC                 305\n",
       "CPR                 295\n",
       "FCB                 291\n",
       "Chlamydiae          289\n",
       "Chloroflexi         210\n",
       "Crenarchaeota       188\n",
       "TACK                129\n",
       "DPANN                57\n",
       "Archaea              32\n",
       "Asgard               10\n",
       "Name: lv2_group, dtype: int64"
      ]
     },
     "execution_count": 36,
     "metadata": {},
     "output_type": "execute_result"
    }
   ],
   "source": [
    "lv2 = pd.read_table(lv2_fp, index_col=0, names=['lv2_group'])\n",
    "lv2['lv2_group'].value_counts()"
   ]
  },
  {
   "cell_type": "code",
   "execution_count": 37,
   "metadata": {
    "collapsed": true
   },
   "outputs": [],
   "source": [
    "fields['taxonomy'] += ['lv1_group', 'lv2_group']"
   ]
  },
  {
   "cell_type": "code",
   "execution_count": 38,
   "metadata": {
    "collapsed": false
   },
   "outputs": [
    {
     "data": {
      "text/html": [
       "<div>\n",
       "<style scoped>\n",
       "    .dataframe tbody tr th:only-of-type {\n",
       "        vertical-align: middle;\n",
       "    }\n",
       "\n",
       "    .dataframe tbody tr th {\n",
       "        vertical-align: top;\n",
       "    }\n",
       "\n",
       "    .dataframe thead th {\n",
       "        text-align: right;\n",
       "    }\n",
       "</style>\n",
       "<table border=\"1\" class=\"dataframe\">\n",
       "  <thead>\n",
       "    <tr style=\"text-align: right;\">\n",
       "      <th></th>\n",
       "      <th>taxid</th>\n",
       "      <th>species_taxid</th>\n",
       "      <th>organism_name</th>\n",
       "      <th>infraspecific_name</th>\n",
       "      <th>isolate</th>\n",
       "      <th>superkingdom</th>\n",
       "      <th>phylum</th>\n",
       "      <th>class</th>\n",
       "      <th>order</th>\n",
       "      <th>family</th>\n",
       "      <th>genus</th>\n",
       "      <th>species</th>\n",
       "      <th>classified</th>\n",
       "      <th>unique_name</th>\n",
       "      <th>lv1_group</th>\n",
       "      <th>lv2_group</th>\n",
       "    </tr>\n",
       "  </thead>\n",
       "  <tbody>\n",
       "    <tr>\n",
       "      <th>G000001985</th>\n",
       "      <td>441960</td>\n",
       "      <td>37727</td>\n",
       "      <td>Talaromyces marneffei ATCC 18224</td>\n",
       "      <td>strain=ATCC 18224</td>\n",
       "      <td>NaN</td>\n",
       "      <td>Eukaryota</td>\n",
       "      <td>Ascomycota</td>\n",
       "      <td>Eurotiomycetes</td>\n",
       "      <td>Eurotiales</td>\n",
       "      <td>Trichocomaceae</td>\n",
       "      <td>Talaromyces</td>\n",
       "      <td>Talaromyces marneffei</td>\n",
       "      <td>True</td>\n",
       "      <td>Talaromyces marneffei ATCC 18224</td>\n",
       "      <td>NaN</td>\n",
       "      <td>NaN</td>\n",
       "    </tr>\n",
       "    <tr>\n",
       "      <th>G000002415</th>\n",
       "      <td>5855</td>\n",
       "      <td>5855</td>\n",
       "      <td>Plasmodium vivax</td>\n",
       "      <td>NaN</td>\n",
       "      <td>Salvador I</td>\n",
       "      <td>Eukaryota</td>\n",
       "      <td>Apicomplexa</td>\n",
       "      <td>Aconoidasida</td>\n",
       "      <td>Haemosporida</td>\n",
       "      <td>Plasmodiidae</td>\n",
       "      <td>Plasmodium</td>\n",
       "      <td>Plasmodium vivax</td>\n",
       "      <td>True</td>\n",
       "      <td>Plasmodium vivax isolate Salvador I</td>\n",
       "      <td>NaN</td>\n",
       "      <td>NaN</td>\n",
       "    </tr>\n",
       "    <tr>\n",
       "      <th>G000002495</th>\n",
       "      <td>242507</td>\n",
       "      <td>318829</td>\n",
       "      <td>Magnaporthe oryzae 70-15</td>\n",
       "      <td>strain=70-15</td>\n",
       "      <td>NaN</td>\n",
       "      <td>Eukaryota</td>\n",
       "      <td>Ascomycota</td>\n",
       "      <td>Sordariomycetes</td>\n",
       "      <td>Magnaporthales</td>\n",
       "      <td>Magnaporthaceae</td>\n",
       "      <td>Magnaporthe</td>\n",
       "      <td>Magnaporthe oryzae</td>\n",
       "      <td>True</td>\n",
       "      <td>Magnaporthe oryzae 70-15</td>\n",
       "      <td>NaN</td>\n",
       "      <td>NaN</td>\n",
       "    </tr>\n",
       "  </tbody>\n",
       "</table>\n",
       "</div>"
      ],
      "text/plain": [
       "             taxid  species_taxid                     organism_name  \\\n",
       "G000001985  441960          37727  Talaromyces marneffei ATCC 18224   \n",
       "G000002415    5855           5855                  Plasmodium vivax   \n",
       "G000002495  242507         318829          Magnaporthe oryzae 70-15   \n",
       "\n",
       "           infraspecific_name     isolate superkingdom       phylum  \\\n",
       "G000001985  strain=ATCC 18224         NaN    Eukaryota   Ascomycota   \n",
       "G000002415                NaN  Salvador I    Eukaryota  Apicomplexa   \n",
       "G000002495       strain=70-15         NaN    Eukaryota   Ascomycota   \n",
       "\n",
       "                      class           order           family        genus  \\\n",
       "G000001985   Eurotiomycetes      Eurotiales   Trichocomaceae  Talaromyces   \n",
       "G000002415     Aconoidasida    Haemosporida     Plasmodiidae   Plasmodium   \n",
       "G000002495  Sordariomycetes  Magnaporthales  Magnaporthaceae  Magnaporthe   \n",
       "\n",
       "                          species  classified  \\\n",
       "G000001985  Talaromyces marneffei        True   \n",
       "G000002415       Plasmodium vivax        True   \n",
       "G000002495     Magnaporthe oryzae        True   \n",
       "\n",
       "                                    unique_name lv1_group lv2_group  \n",
       "G000001985     Talaromyces marneffei ATCC 18224       NaN       NaN  \n",
       "G000002415  Plasmodium vivax isolate Salvador I       NaN       NaN  \n",
       "G000002495             Magnaporthe oryzae 70-15       NaN       NaN  "
      ]
     },
     "execution_count": 38,
     "metadata": {},
     "output_type": "execute_result"
    }
   ],
   "source": [
    "meta = pd.concat([meta, lv1, lv2], axis=1, sort=False)[field_order()]\n",
    "meta[fields['taxonomy']].head(3)"
   ]
  },
  {
   "cell_type": "markdown",
   "metadata": {},
   "source": [
    "### Quality"
   ]
  },
  {
   "cell_type": "markdown",
   "metadata": {},
   "source": [
    "#### QUAST"
   ]
  },
  {
   "cell_type": "markdown",
   "metadata": {},
   "source": [
    "Assembly statistics computed by QUAST"
   ]
  },
  {
   "cell_type": "code",
   "execution_count": 39,
   "metadata": {
    "collapsed": false
   },
   "outputs": [
    {
     "data": {
      "text/plain": [
       "(95639, 21)"
      ]
     },
     "execution_count": 39,
     "metadata": {},
     "output_type": "execute_result"
    }
   ],
   "source": [
    "quast = pd.read_table(quast_fp, index_col=0)\n",
    "quast.shape"
   ]
  },
  {
   "cell_type": "code",
   "execution_count": 40,
   "metadata": {
    "collapsed": false
   },
   "outputs": [
    {
     "data": {
      "text/plain": [
       "\"# contigs (>= 0 bp), # contigs (>= 1000 bp), # contigs (>= 5000 bp), # contigs (>= 10000 bp), # contigs (>= 25000 bp), # contigs (>= 50000 bp), Total length (>= 0 bp), Total length (>= 1000 bp), Total length (>= 5000 bp), Total length (>= 10000 bp), Total length (>= 25000 bp), Total length (>= 50000 bp), # contigs, Largest contig, Total length, GC (%), N50, N75, L50, L75, # N's per 100 kbp\""
      ]
     },
     "execution_count": 40,
     "metadata": {},
     "output_type": "execute_result"
    }
   ],
   "source": [
    "', '.join(quast.columns)"
   ]
  },
  {
   "cell_type": "code",
   "execution_count": 41,
   "metadata": {
    "collapsed": true
   },
   "outputs": [],
   "source": [
    "quast = quast[['Total length', '# contigs', 'GC (%)', 'N50', 'L50']]"
   ]
  },
  {
   "cell_type": "code",
   "execution_count": 42,
   "metadata": {
    "collapsed": true
   },
   "outputs": [],
   "source": [
    "fields['statistics'] += quast.columns.tolist()"
   ]
  },
  {
   "cell_type": "code",
   "execution_count": 43,
   "metadata": {
    "collapsed": false
   },
   "outputs": [
    {
     "data": {
      "text/html": [
       "<div>\n",
       "<style scoped>\n",
       "    .dataframe tbody tr th:only-of-type {\n",
       "        vertical-align: middle;\n",
       "    }\n",
       "\n",
       "    .dataframe tbody tr th {\n",
       "        vertical-align: top;\n",
       "    }\n",
       "\n",
       "    .dataframe thead th {\n",
       "        text-align: right;\n",
       "    }\n",
       "</style>\n",
       "<table border=\"1\" class=\"dataframe\">\n",
       "  <thead>\n",
       "    <tr style=\"text-align: right;\">\n",
       "      <th></th>\n",
       "      <th>score_faa</th>\n",
       "      <th>score_fna</th>\n",
       "      <th>score_rrna</th>\n",
       "      <th>score_trna</th>\n",
       "      <th>Total length</th>\n",
       "      <th># contigs</th>\n",
       "      <th>GC (%)</th>\n",
       "      <th>N50</th>\n",
       "      <th>L50</th>\n",
       "    </tr>\n",
       "  </thead>\n",
       "  <tbody>\n",
       "    <tr>\n",
       "      <th>G000001985</th>\n",
       "      <td>1.00</td>\n",
       "      <td>0.829</td>\n",
       "      <td>0.1</td>\n",
       "      <td>0.9</td>\n",
       "      <td>28643865.0</td>\n",
       "      <td>452.0</td>\n",
       "      <td>46.67</td>\n",
       "      <td>3339384.0</td>\n",
       "      <td>4.0</td>\n",
       "    </tr>\n",
       "    <tr>\n",
       "      <th>G000002415</th>\n",
       "      <td>0.98</td>\n",
       "      <td>0.494</td>\n",
       "      <td>0.1</td>\n",
       "      <td>1.0</td>\n",
       "      <td>27013691.0</td>\n",
       "      <td>2748.0</td>\n",
       "      <td>42.28</td>\n",
       "      <td>1678596.0</td>\n",
       "      <td>6.0</td>\n",
       "    </tr>\n",
       "    <tr>\n",
       "      <th>G000002495</th>\n",
       "      <td>1.00</td>\n",
       "      <td>0.950</td>\n",
       "      <td>0.4</td>\n",
       "      <td>1.0</td>\n",
       "      <td>40979121.0</td>\n",
       "      <td>53.0</td>\n",
       "      <td>51.61</td>\n",
       "      <td>6606598.0</td>\n",
       "      <td>3.0</td>\n",
       "    </tr>\n",
       "    <tr>\n",
       "      <th>G000002515</th>\n",
       "      <td>0.99</td>\n",
       "      <td>0.994</td>\n",
       "      <td>0.3</td>\n",
       "      <td>1.0</td>\n",
       "      <td>10729447.0</td>\n",
       "      <td>7.0</td>\n",
       "      <td>38.72</td>\n",
       "      <td>1753957.0</td>\n",
       "      <td>3.0</td>\n",
       "    </tr>\n",
       "    <tr>\n",
       "      <th>G000002525</th>\n",
       "      <td>1.00</td>\n",
       "      <td>0.991</td>\n",
       "      <td>1.0</td>\n",
       "      <td>1.0</td>\n",
       "      <td>20550897.0</td>\n",
       "      <td>7.0</td>\n",
       "      <td>48.99</td>\n",
       "      <td>3633272.0</td>\n",
       "      <td>3.0</td>\n",
       "    </tr>\n",
       "  </tbody>\n",
       "</table>\n",
       "</div>"
      ],
      "text/plain": [
       "            score_faa  score_fna  score_rrna  score_trna  Total length  \\\n",
       "G000001985       1.00      0.829         0.1         0.9    28643865.0   \n",
       "G000002415       0.98      0.494         0.1         1.0    27013691.0   \n",
       "G000002495       1.00      0.950         0.4         1.0    40979121.0   \n",
       "G000002515       0.99      0.994         0.3         1.0    10729447.0   \n",
       "G000002525       1.00      0.991         1.0         1.0    20550897.0   \n",
       "\n",
       "            # contigs  GC (%)        N50  L50  \n",
       "G000001985      452.0   46.67  3339384.0  4.0  \n",
       "G000002415     2748.0   42.28  1678596.0  6.0  \n",
       "G000002495       53.0   51.61  6606598.0  3.0  \n",
       "G000002515        7.0   38.72  1753957.0  3.0  \n",
       "G000002525        7.0   48.99  3633272.0  3.0  "
      ]
     },
     "execution_count": 43,
     "metadata": {},
     "output_type": "execute_result"
    }
   ],
   "source": [
    "meta = pd.concat([meta, quast], axis=1, sort=False)[field_order()]\n",
    "meta[fields['statistics']].head()"
   ]
  },
  {
   "cell_type": "markdown",
   "metadata": {},
   "source": [
    "#### Prokaryotes (86k)"
   ]
  },
  {
   "cell_type": "markdown",
   "metadata": {},
   "source": [
    "Downsample to 86K prokaryotic genomes"
   ]
  },
  {
   "cell_type": "code",
   "execution_count": 44,
   "metadata": {
    "collapsed": true
   },
   "outputs": [],
   "source": [
    "with open(prok_list, 'r') as f:\n",
    "    gs = f.read().splitlines()"
   ]
  },
  {
   "cell_type": "code",
   "execution_count": 45,
   "metadata": {
    "collapsed": false
   },
   "outputs": [
    {
     "data": {
      "text/plain": [
       "(86200, 40)"
      ]
     },
     "execution_count": 45,
     "metadata": {},
     "output_type": "execute_result"
    }
   ],
   "source": [
    "meta = meta[meta.index.isin(gs)]\n",
    "meta.shape"
   ]
  },
  {
   "cell_type": "code",
   "execution_count": 46,
   "metadata": {
    "collapsed": true
   },
   "outputs": [],
   "source": [
    "for field in ['Total length', '# contigs', 'N50', 'L50']:\n",
    "    meta[field] = meta[field].astype(int)"
   ]
  },
  {
   "cell_type": "markdown",
   "metadata": {},
   "source": [
    "#### Prodigal"
   ]
  },
  {
   "cell_type": "markdown",
   "metadata": {},
   "source": [
    "ORFs identified by Prodigal"
   ]
  },
  {
   "cell_type": "code",
   "execution_count": 47,
   "metadata": {
    "collapsed": false
   },
   "outputs": [
    {
     "data": {
      "text/plain": [
       "(86200, 3)"
      ]
     },
     "execution_count": 47,
     "metadata": {},
     "output_type": "execute_result"
    }
   ],
   "source": [
    "prodigal = pd.read_table(prodigal_fp, index_col=0)\n",
    "prodigal.shape"
   ]
  },
  {
   "cell_type": "code",
   "execution_count": 48,
   "metadata": {
    "collapsed": false
   },
   "outputs": [
    {
     "data": {
      "text/plain": [
       "'prots, aa, bp'"
      ]
     },
     "execution_count": 48,
     "metadata": {},
     "output_type": "execute_result"
    }
   ],
   "source": [
    "', '.join(prodigal.columns)"
   ]
  },
  {
   "cell_type": "code",
   "execution_count": 49,
   "metadata": {
    "collapsed": true
   },
   "outputs": [],
   "source": [
    "prodigal.columns = ['# proteins', 'Protein length', 'Coding length']"
   ]
  },
  {
   "cell_type": "code",
   "execution_count": 50,
   "metadata": {
    "collapsed": true
   },
   "outputs": [],
   "source": [
    "meta = pd.concat([meta, prodigal], axis=1, sort=False)"
   ]
  },
  {
   "cell_type": "markdown",
   "metadata": {},
   "source": [
    "Calculate coding density"
   ]
  },
  {
   "cell_type": "code",
   "execution_count": 51,
   "metadata": {
    "collapsed": true
   },
   "outputs": [],
   "source": [
    "meta['Coding density'] = meta['Coding length'] / meta['Total length'] * 100"
   ]
  },
  {
   "cell_type": "code",
   "execution_count": 52,
   "metadata": {
    "collapsed": true
   },
   "outputs": [],
   "source": [
    "meta.drop('Coding length', axis=1, inplace=True)\n",
    "fields['statistics'] += ['# proteins', 'Protein length', 'Coding density']"
   ]
  },
  {
   "cell_type": "markdown",
   "metadata": {},
   "source": [
    "#### CheckM"
   ]
  },
  {
   "cell_type": "markdown",
   "metadata": {},
   "source": [
    "Bin quality statistics measured by CheckM"
   ]
  },
  {
   "cell_type": "code",
   "execution_count": 53,
   "metadata": {
    "collapsed": false
   },
   "outputs": [
    {
     "name": "stderr",
     "output_type": "stream",
     "text": [
      "/Users/qiz173/anaconda/lib/python3.5/site-packages/IPython/core/interactiveshell.py:2683: DtypeWarning: Columns (21) have mixed types. Specify dtype option on import or set low_memory=False.\n",
      "  interactivity=interactivity, compiler=compiler, result=result)\n"
     ]
    },
    {
     "data": {
      "text/plain": [
       "(86200, 29)"
      ]
     },
     "execution_count": 53,
     "metadata": {},
     "output_type": "execute_result"
    }
   ],
   "source": [
    "checkm = pd.read_table(checkm_fp, index_col=0)\n",
    "checkm.shape"
   ]
  },
  {
   "cell_type": "code",
   "execution_count": 54,
   "metadata": {
    "collapsed": false
   },
   "outputs": [
    {
     "data": {
      "text/plain": [
       "'Marker lineage, # genomes, # markers, # marker sets, Completeness, Contamination, Strain heterogeneity, Genome size (bp), # ambiguous bases, # scaffolds, # contigs, N50 (scaffolds), N50 (contigs), Mean scaffold length (bp), Mean contig length (bp), Longest scaffold (bp), Longest contig (bp), GC, GC std (scaffolds > 1kbp), Coding density, Translation table, # predicted genes, 0, 1, 2, 3, 4, 5+, Unnamed: 29'"
      ]
     },
     "execution_count": 54,
     "metadata": {},
     "output_type": "execute_result"
    }
   ],
   "source": [
    "', '.join(checkm.columns)"
   ]
  },
  {
   "cell_type": "code",
   "execution_count": 55,
   "metadata": {
    "collapsed": true
   },
   "outputs": [],
   "source": [
    "checkm = checkm[['Completeness', 'Contamination', 'Strain heterogeneity']]"
   ]
  },
  {
   "cell_type": "code",
   "execution_count": 56,
   "metadata": {
    "collapsed": true
   },
   "outputs": [],
   "source": [
    "fields['statistics'] += checkm.columns.tolist()"
   ]
  },
  {
   "cell_type": "code",
   "execution_count": 57,
   "metadata": {
    "collapsed": false
   },
   "outputs": [
    {
     "data": {
      "text/html": [
       "<div>\n",
       "<style scoped>\n",
       "    .dataframe tbody tr th:only-of-type {\n",
       "        vertical-align: middle;\n",
       "    }\n",
       "\n",
       "    .dataframe tbody tr th {\n",
       "        vertical-align: top;\n",
       "    }\n",
       "\n",
       "    .dataframe thead th {\n",
       "        text-align: right;\n",
       "    }\n",
       "</style>\n",
       "<table border=\"1\" class=\"dataframe\">\n",
       "  <thead>\n",
       "    <tr style=\"text-align: right;\">\n",
       "      <th></th>\n",
       "      <th>score_faa</th>\n",
       "      <th>score_fna</th>\n",
       "      <th>score_rrna</th>\n",
       "      <th>score_trna</th>\n",
       "      <th>Total length</th>\n",
       "      <th># contigs</th>\n",
       "      <th>GC (%)</th>\n",
       "      <th>N50</th>\n",
       "      <th>L50</th>\n",
       "      <th># proteins</th>\n",
       "      <th>Protein length</th>\n",
       "      <th>Coding density</th>\n",
       "      <th>Completeness</th>\n",
       "      <th>Contamination</th>\n",
       "      <th>Strain heterogeneity</th>\n",
       "    </tr>\n",
       "  </thead>\n",
       "  <tbody>\n",
       "    <tr>\n",
       "      <th>G000003135</th>\n",
       "      <td>1.00</td>\n",
       "      <td>0.631</td>\n",
       "      <td>1.0</td>\n",
       "      <td>1.0</td>\n",
       "      <td>2396359</td>\n",
       "      <td>114</td>\n",
       "      <td>60.25</td>\n",
       "      <td>323391</td>\n",
       "      <td>3</td>\n",
       "      <td>2002</td>\n",
       "      <td>714009</td>\n",
       "      <td>87.798698</td>\n",
       "      <td>100.00</td>\n",
       "      <td>0.00</td>\n",
       "      <td>0.0</td>\n",
       "    </tr>\n",
       "    <tr>\n",
       "      <th>G000003215</th>\n",
       "      <td>0.96</td>\n",
       "      <td>0.930</td>\n",
       "      <td>0.9</td>\n",
       "      <td>0.7</td>\n",
       "      <td>4127750</td>\n",
       "      <td>15</td>\n",
       "      <td>28.52</td>\n",
       "      <td>4094363</td>\n",
       "      <td>1</td>\n",
       "      <td>3688</td>\n",
       "      <td>1171790</td>\n",
       "      <td>83.639586</td>\n",
       "      <td>99.51</td>\n",
       "      <td>0.37</td>\n",
       "      <td>0.0</td>\n",
       "    </tr>\n",
       "    <tr>\n",
       "      <th>G000003645</th>\n",
       "      <td>1.00</td>\n",
       "      <td>0.685</td>\n",
       "      <td>0.4</td>\n",
       "      <td>1.0</td>\n",
       "      <td>5269725</td>\n",
       "      <td>1</td>\n",
       "      <td>35.34</td>\n",
       "      <td>5269725</td>\n",
       "      <td>1</td>\n",
       "      <td>5382</td>\n",
       "      <td>1522268</td>\n",
       "      <td>85.090190</td>\n",
       "      <td>99.07</td>\n",
       "      <td>0.02</td>\n",
       "      <td>0.0</td>\n",
       "    </tr>\n",
       "    <tr>\n",
       "      <th>G000003925</th>\n",
       "      <td>1.00</td>\n",
       "      <td>0.735</td>\n",
       "      <td>1.0</td>\n",
       "      <td>1.0</td>\n",
       "      <td>5561906</td>\n",
       "      <td>1</td>\n",
       "      <td>35.21</td>\n",
       "      <td>5561906</td>\n",
       "      <td>1</td>\n",
       "      <td>5690</td>\n",
       "      <td>1566356</td>\n",
       "      <td>82.952589</td>\n",
       "      <td>99.32</td>\n",
       "      <td>0.02</td>\n",
       "      <td>0.0</td>\n",
       "    </tr>\n",
       "    <tr>\n",
       "      <th>G000003955</th>\n",
       "      <td>1.00</td>\n",
       "      <td>0.583</td>\n",
       "      <td>1.0</td>\n",
       "      <td>1.0</td>\n",
       "      <td>5790501</td>\n",
       "      <td>1</td>\n",
       "      <td>35.24</td>\n",
       "      <td>5790501</td>\n",
       "      <td>1</td>\n",
       "      <td>6005</td>\n",
       "      <td>1647986</td>\n",
       "      <td>83.829327</td>\n",
       "      <td>97.17</td>\n",
       "      <td>0.76</td>\n",
       "      <td>0.0</td>\n",
       "    </tr>\n",
       "  </tbody>\n",
       "</table>\n",
       "</div>"
      ],
      "text/plain": [
       "            score_faa  score_fna  score_rrna  score_trna  Total length  \\\n",
       "G000003135       1.00      0.631         1.0         1.0       2396359   \n",
       "G000003215       0.96      0.930         0.9         0.7       4127750   \n",
       "G000003645       1.00      0.685         0.4         1.0       5269725   \n",
       "G000003925       1.00      0.735         1.0         1.0       5561906   \n",
       "G000003955       1.00      0.583         1.0         1.0       5790501   \n",
       "\n",
       "            # contigs  GC (%)      N50  L50  # proteins  Protein length  \\\n",
       "G000003135        114   60.25   323391    3        2002          714009   \n",
       "G000003215         15   28.52  4094363    1        3688         1171790   \n",
       "G000003645          1   35.34  5269725    1        5382         1522268   \n",
       "G000003925          1   35.21  5561906    1        5690         1566356   \n",
       "G000003955          1   35.24  5790501    1        6005         1647986   \n",
       "\n",
       "            Coding density  Completeness  Contamination  Strain heterogeneity  \n",
       "G000003135       87.798698        100.00           0.00                   0.0  \n",
       "G000003215       83.639586         99.51           0.37                   0.0  \n",
       "G000003645       85.090190         99.07           0.02                   0.0  \n",
       "G000003925       82.952589         99.32           0.02                   0.0  \n",
       "G000003955       83.829327         97.17           0.76                   0.0  "
      ]
     },
     "execution_count": 57,
     "metadata": {},
     "output_type": "execute_result"
    }
   ],
   "source": [
    "meta = pd.concat([meta, checkm], axis=1, sort=False)[field_order()]\n",
    "meta[fields['statistics']].head()"
   ]
  },
  {
   "cell_type": "markdown",
   "metadata": {},
   "source": [
    "#### Marker profile"
   ]
  },
  {
   "cell_type": "markdown",
   "metadata": {},
   "source": [
    "Single-copy marker genes identified by PhyloPhlAn"
   ]
  },
  {
   "cell_type": "code",
   "execution_count": 58,
   "metadata": {
    "collapsed": false
   },
   "outputs": [
    {
     "data": {
      "text/plain": [
       "86200"
      ]
     },
     "execution_count": 58,
     "metadata": {},
     "output_type": "execute_result"
    }
   ],
   "source": [
    "markers = pd.read_table(markers_fp, index_col=0).sum(axis=1)\n",
    "len(markers)"
   ]
  },
  {
   "cell_type": "code",
   "execution_count": 59,
   "metadata": {
    "collapsed": true
   },
   "outputs": [],
   "source": [
    "meta['# markers'] = meta.index.to_series().map(markers)\n",
    "fields['statistics'].append('# markers')"
   ]
  },
  {
   "cell_type": "markdown",
   "metadata": {},
   "source": [
    "#### RNAmmer"
   ]
  },
  {
   "cell_type": "markdown",
   "metadata": {},
   "source": [
    "rRNA genes identified by RNAmmer"
   ]
  },
  {
   "cell_type": "code",
   "execution_count": 60,
   "metadata": {
    "collapsed": false
   },
   "outputs": [
    {
     "data": {
      "text/html": [
       "<div>\n",
       "<style scoped>\n",
       "    .dataframe tbody tr th:only-of-type {\n",
       "        vertical-align: middle;\n",
       "    }\n",
       "\n",
       "    .dataframe tbody tr th {\n",
       "        vertical-align: top;\n",
       "    }\n",
       "\n",
       "    .dataframe thead th {\n",
       "        text-align: right;\n",
       "    }\n",
       "</style>\n",
       "<table border=\"1\" class=\"dataframe\">\n",
       "  <thead>\n",
       "    <tr style=\"text-align: right;\">\n",
       "      <th></th>\n",
       "      <th>5s_rRNA</th>\n",
       "      <th>16s_rRNA</th>\n",
       "      <th>23s_rRNA</th>\n",
       "    </tr>\n",
       "    <tr>\n",
       "      <th>#genome</th>\n",
       "      <th></th>\n",
       "      <th></th>\n",
       "      <th></th>\n",
       "    </tr>\n",
       "  </thead>\n",
       "  <tbody>\n",
       "    <tr>\n",
       "      <th>G000003135</th>\n",
       "      <td>1</td>\n",
       "      <td>1</td>\n",
       "      <td>1</td>\n",
       "    </tr>\n",
       "    <tr>\n",
       "      <th>G000003215</th>\n",
       "      <td>3</td>\n",
       "      <td>5</td>\n",
       "      <td>3</td>\n",
       "    </tr>\n",
       "    <tr>\n",
       "      <th>G000003645</th>\n",
       "      <td>3</td>\n",
       "      <td>1</td>\n",
       "      <td>1</td>\n",
       "    </tr>\n",
       "    <tr>\n",
       "      <th>G000003925</th>\n",
       "      <td>5</td>\n",
       "      <td>1</td>\n",
       "      <td>1</td>\n",
       "    </tr>\n",
       "    <tr>\n",
       "      <th>G000003955</th>\n",
       "      <td>5</td>\n",
       "      <td>1</td>\n",
       "      <td>1</td>\n",
       "    </tr>\n",
       "  </tbody>\n",
       "</table>\n",
       "</div>"
      ],
      "text/plain": [
       "            5s_rRNA  16s_rRNA  23s_rRNA\n",
       "#genome                                \n",
       "G000003135        1         1         1\n",
       "G000003215        3         5         3\n",
       "G000003645        3         1         1\n",
       "G000003925        5         1         1\n",
       "G000003955        5         1         1"
      ]
     },
     "execution_count": 60,
     "metadata": {},
     "output_type": "execute_result"
    }
   ],
   "source": [
    "rnammer = pd.read_table(rnammer_fp, index_col=0)\n",
    "rnammer.head()"
   ]
  },
  {
   "cell_type": "code",
   "execution_count": 61,
   "metadata": {
    "collapsed": true
   },
   "outputs": [],
   "source": [
    "fields['statistics'] += rnammer.columns.tolist()\n",
    "meta = pd.concat([meta, rnammer.astype(bool).replace({True: 'yes', False: 'no'})],\n",
    "                 axis=1, sort=False)[field_order()]"
   ]
  },
  {
   "cell_type": "markdown",
   "metadata": {},
   "source": [
    "#### Aragorn"
   ]
  },
  {
   "cell_type": "markdown",
   "metadata": {},
   "source": [
    "tRNA genes identified by Aragorn"
   ]
  },
  {
   "cell_type": "code",
   "execution_count": 62,
   "metadata": {
    "collapsed": false
   },
   "outputs": [
    {
     "data": {
      "text/html": [
       "<div>\n",
       "<style scoped>\n",
       "    .dataframe tbody tr th:only-of-type {\n",
       "        vertical-align: middle;\n",
       "    }\n",
       "\n",
       "    .dataframe tbody tr th {\n",
       "        vertical-align: top;\n",
       "    }\n",
       "\n",
       "    .dataframe thead th {\n",
       "        text-align: right;\n",
       "    }\n",
       "</style>\n",
       "<table border=\"1\" class=\"dataframe\">\n",
       "  <thead>\n",
       "    <tr style=\"text-align: right;\">\n",
       "      <th></th>\n",
       "      <th>tRNA-???</th>\n",
       "      <th>tRNA-Ala</th>\n",
       "      <th>tRNA-Arg</th>\n",
       "      <th>tRNA-Asn</th>\n",
       "      <th>tRNA-Asp</th>\n",
       "      <th>tRNA-Cys</th>\n",
       "      <th>tRNA-Gln</th>\n",
       "      <th>tRNA-Glu</th>\n",
       "      <th>tRNA-Gly</th>\n",
       "      <th>tRNA-His</th>\n",
       "      <th>...</th>\n",
       "      <th>tRNA-Pyl</th>\n",
       "      <th>tRNA-SeC</th>\n",
       "      <th>tRNA-Ser</th>\n",
       "      <th>tRNA-Stop</th>\n",
       "      <th>tRNA-Thr</th>\n",
       "      <th>tRNA-Trp</th>\n",
       "      <th>tRNA-Tyr</th>\n",
       "      <th>tRNA-Val</th>\n",
       "      <th>tmRNA</th>\n",
       "      <th>tmRNA*</th>\n",
       "    </tr>\n",
       "    <tr>\n",
       "      <th>#genome</th>\n",
       "      <th></th>\n",
       "      <th></th>\n",
       "      <th></th>\n",
       "      <th></th>\n",
       "      <th></th>\n",
       "      <th></th>\n",
       "      <th></th>\n",
       "      <th></th>\n",
       "      <th></th>\n",
       "      <th></th>\n",
       "      <th></th>\n",
       "      <th></th>\n",
       "      <th></th>\n",
       "      <th></th>\n",
       "      <th></th>\n",
       "      <th></th>\n",
       "      <th></th>\n",
       "      <th></th>\n",
       "      <th></th>\n",
       "      <th></th>\n",
       "      <th></th>\n",
       "    </tr>\n",
       "  </thead>\n",
       "  <tbody>\n",
       "    <tr>\n",
       "      <th>G000003135</th>\n",
       "      <td>0</td>\n",
       "      <td>4</td>\n",
       "      <td>5</td>\n",
       "      <td>3</td>\n",
       "      <td>2</td>\n",
       "      <td>1</td>\n",
       "      <td>2</td>\n",
       "      <td>2</td>\n",
       "      <td>5</td>\n",
       "      <td>1</td>\n",
       "      <td>...</td>\n",
       "      <td>0</td>\n",
       "      <td>0</td>\n",
       "      <td>4</td>\n",
       "      <td>0</td>\n",
       "      <td>5</td>\n",
       "      <td>1</td>\n",
       "      <td>1</td>\n",
       "      <td>5</td>\n",
       "      <td>1</td>\n",
       "      <td>0</td>\n",
       "    </tr>\n",
       "    <tr>\n",
       "      <th>G000003215</th>\n",
       "      <td>0</td>\n",
       "      <td>0</td>\n",
       "      <td>1</td>\n",
       "      <td>0</td>\n",
       "      <td>0</td>\n",
       "      <td>2</td>\n",
       "      <td>1</td>\n",
       "      <td>1</td>\n",
       "      <td>3</td>\n",
       "      <td>2</td>\n",
       "      <td>...</td>\n",
       "      <td>2</td>\n",
       "      <td>1</td>\n",
       "      <td>4</td>\n",
       "      <td>0</td>\n",
       "      <td>2</td>\n",
       "      <td>1</td>\n",
       "      <td>1</td>\n",
       "      <td>2</td>\n",
       "      <td>1</td>\n",
       "      <td>0</td>\n",
       "    </tr>\n",
       "    <tr>\n",
       "      <th>G000003645</th>\n",
       "      <td>0</td>\n",
       "      <td>3</td>\n",
       "      <td>2</td>\n",
       "      <td>4</td>\n",
       "      <td>4</td>\n",
       "      <td>1</td>\n",
       "      <td>4</td>\n",
       "      <td>7</td>\n",
       "      <td>7</td>\n",
       "      <td>1</td>\n",
       "      <td>...</td>\n",
       "      <td>0</td>\n",
       "      <td>0</td>\n",
       "      <td>4</td>\n",
       "      <td>0</td>\n",
       "      <td>3</td>\n",
       "      <td>2</td>\n",
       "      <td>3</td>\n",
       "      <td>6</td>\n",
       "      <td>1</td>\n",
       "      <td>0</td>\n",
       "    </tr>\n",
       "    <tr>\n",
       "      <th>G000003925</th>\n",
       "      <td>0</td>\n",
       "      <td>4</td>\n",
       "      <td>4</td>\n",
       "      <td>5</td>\n",
       "      <td>4</td>\n",
       "      <td>1</td>\n",
       "      <td>4</td>\n",
       "      <td>7</td>\n",
       "      <td>7</td>\n",
       "      <td>1</td>\n",
       "      <td>...</td>\n",
       "      <td>0</td>\n",
       "      <td>0</td>\n",
       "      <td>5</td>\n",
       "      <td>0</td>\n",
       "      <td>5</td>\n",
       "      <td>2</td>\n",
       "      <td>3</td>\n",
       "      <td>6</td>\n",
       "      <td>1</td>\n",
       "      <td>0</td>\n",
       "    </tr>\n",
       "    <tr>\n",
       "      <th>G000003955</th>\n",
       "      <td>0</td>\n",
       "      <td>4</td>\n",
       "      <td>4</td>\n",
       "      <td>5</td>\n",
       "      <td>6</td>\n",
       "      <td>1</td>\n",
       "      <td>4</td>\n",
       "      <td>7</td>\n",
       "      <td>8</td>\n",
       "      <td>2</td>\n",
       "      <td>...</td>\n",
       "      <td>0</td>\n",
       "      <td>0</td>\n",
       "      <td>7</td>\n",
       "      <td>0</td>\n",
       "      <td>6</td>\n",
       "      <td>2</td>\n",
       "      <td>4</td>\n",
       "      <td>5</td>\n",
       "      <td>1</td>\n",
       "      <td>0</td>\n",
       "    </tr>\n",
       "  </tbody>\n",
       "</table>\n",
       "<p>5 rows × 26 columns</p>\n",
       "</div>"
      ],
      "text/plain": [
       "            tRNA-???  tRNA-Ala  tRNA-Arg  tRNA-Asn  tRNA-Asp  tRNA-Cys  \\\n",
       "#genome                                                                  \n",
       "G000003135         0         4         5         3         2         1   \n",
       "G000003215         0         0         1         0         0         2   \n",
       "G000003645         0         3         2         4         4         1   \n",
       "G000003925         0         4         4         5         4         1   \n",
       "G000003955         0         4         4         5         6         1   \n",
       "\n",
       "            tRNA-Gln  tRNA-Glu  tRNA-Gly  tRNA-His   ...    tRNA-Pyl  \\\n",
       "#genome                                              ...               \n",
       "G000003135         2         2         5         1   ...           0   \n",
       "G000003215         1         1         3         2   ...           2   \n",
       "G000003645         4         7         7         1   ...           0   \n",
       "G000003925         4         7         7         1   ...           0   \n",
       "G000003955         4         7         8         2   ...           0   \n",
       "\n",
       "            tRNA-SeC  tRNA-Ser  tRNA-Stop  tRNA-Thr  tRNA-Trp  tRNA-Tyr  \\\n",
       "#genome                                                                   \n",
       "G000003135         0         4          0         5         1         1   \n",
       "G000003215         1         4          0         2         1         1   \n",
       "G000003645         0         4          0         3         2         3   \n",
       "G000003925         0         5          0         5         2         3   \n",
       "G000003955         0         7          0         6         2         4   \n",
       "\n",
       "            tRNA-Val  tmRNA  tmRNA*  \n",
       "#genome                              \n",
       "G000003135         5      1       0  \n",
       "G000003215         2      1       0  \n",
       "G000003645         6      1       0  \n",
       "G000003925         6      1       0  \n",
       "G000003955         5      1       0  \n",
       "\n",
       "[5 rows x 26 columns]"
      ]
     },
     "execution_count": 62,
     "metadata": {},
     "output_type": "execute_result"
    }
   ],
   "source": [
    "aragorn = pd.read_table(aragorn_fp, index_col=0)\n",
    "aragorn.head()"
   ]
  },
  {
   "cell_type": "code",
   "execution_count": 63,
   "metadata": {
    "collapsed": true
   },
   "outputs": [],
   "source": [
    "aa20 = ['Ala', 'Arg', 'Asn', 'Asp', 'Cys', 'Gln', 'Glu', 'Gly', 'His', 'Ile',\n",
    "        'Leu', 'Lys', 'Met', 'Phe', 'Pro', 'Ser', 'Thr', 'Trp', 'Tyr', 'Val']\n",
    "aragorn = aragorn[['tRNA-%s' % x for x in aa20]]"
   ]
  },
  {
   "cell_type": "code",
   "execution_count": 64,
   "metadata": {
    "collapsed": true
   },
   "outputs": [],
   "source": [
    "aragorn = aragorn.astype(bool).sum(axis=1).to_dict()"
   ]
  },
  {
   "cell_type": "code",
   "execution_count": 65,
   "metadata": {
    "collapsed": true
   },
   "outputs": [],
   "source": [
    "fields['statistics'].append('# tRNAs')\n",
    "meta['# tRNAs'] = meta.index.to_series().map(aragorn)"
   ]
  },
  {
   "cell_type": "markdown",
   "metadata": {},
   "source": [
    "#### Draft quality"
   ]
  },
  {
   "cell_type": "markdown",
   "metadata": {},
   "source": [
    "Attempt to assign a term that describes the quality of a draft genome. Can be \"high\", \"medium\", \"low\" or \"unmet\". The criteria for assigning these terms follow the **MISAG and MIMAG standard** established in [Bowers et al. (2017)](https://www.nature.com/articles/nbt.3893). Specifically:\n",
    "\n",
    "  - *high*: completeness > 90%, contamination < 5%, presence of 23S, 16S, 5S rRNAs and >= 18 tRNAs.\n",
    "  - *medium*: completeness >= 50%, contamination < 10%\n",
    "  - *low*: completeness < 50%, contamination < 10%\n",
    "  - *unmet*: contamination >= 10%\n",
    "\n",
    "Note that in addition to these criteria, the original MISAG and MIMAG standard requires reference-guided review of metagenome assemblies and bins, which does not apply here. Therefore, please treat this information with caution.\n",
    "\n",
    "Also note that we do not attempt to judge whether a genome is \"finished\". Please refer to column \"assembly_level\" for this information."
   ]
  },
  {
   "cell_type": "code",
   "execution_count": 66,
   "metadata": {
    "collapsed": true
   },
   "outputs": [],
   "source": [
    "def draft_quality(row):\n",
    "    if (row['5s_rRNA'] == 'yes' and row['16s_rRNA'] == 'yes' and row['23s_rRNA'] == 'yes'\n",
    "          and row['# tRNAs'] >= 18 and row['Completeness'] > 90 and row['Contamination'] < 5):\n",
    "        return 'high'\n",
    "    elif row['Contamination'] < 10:\n",
    "        return 'medium' if row['Completeness'] >= 50 else 'low'\n",
    "    else:\n",
    "        return 'unmet'"
   ]
  },
  {
   "cell_type": "code",
   "execution_count": 67,
   "metadata": {
    "collapsed": true
   },
   "outputs": [],
   "source": [
    "meta['draft_quality'] = meta.apply(draft_quality, axis=1)\n",
    "fields['statistics'].append('draft_quality')"
   ]
  },
  {
   "cell_type": "markdown",
   "metadata": {},
   "source": [
    "### Phylogeny"
   ]
  },
  {
   "cell_type": "markdown",
   "metadata": {},
   "source": [
    "#### in-tree (11k)"
   ]
  },
  {
   "cell_type": "code",
   "execution_count": 68,
   "metadata": {
    "collapsed": true
   },
   "outputs": [],
   "source": [
    "with open(in_list, 'r') as f:\n",
    "    gs = f.read().splitlines()"
   ]
  },
  {
   "cell_type": "code",
   "execution_count": 69,
   "metadata": {
    "collapsed": false
   },
   "outputs": [],
   "source": [
    "meta['selected'] = meta.index.to_series().apply(lambda x: x in gs)"
   ]
  },
  {
   "cell_type": "code",
   "execution_count": 70,
   "metadata": {
    "collapsed": true
   },
   "outputs": [],
   "source": [
    "fields['extra'].append('selected')"
   ]
  },
  {
   "cell_type": "markdown",
   "metadata": {},
   "source": [
    "#### Neighbor"
   ]
  },
  {
   "cell_type": "markdown",
   "metadata": {},
   "source": [
    "For each of the 75,626 genomes that were not selected for phylogenetic reconstruction, a closest neighbor was identified based on MinHash signature, so that they can be mapped to leaves in the tree.\n",
    "\n",
    "Note that 24 genomes don't have neighbors because they are too separated in the biodiversity space (distance = 1.0 to any genome). All other genomes have distance < 0.3."
   ]
  },
  {
   "cell_type": "code",
   "execution_count": 71,
   "metadata": {
    "collapsed": true
   },
   "outputs": [],
   "source": [
    "with open(neighbors_fp, 'r') as f:\n",
    "    neighbors = dict(x.split('\\t') for x in f.read().splitlines())\n",
    "for g in gs:\n",
    "    neighbors[g] = 'self'"
   ]
  },
  {
   "cell_type": "code",
   "execution_count": 72,
   "metadata": {
    "collapsed": true
   },
   "outputs": [],
   "source": [
    "meta['neighbor'] = meta.index.to_series().map(neighbors)\n",
    "fields['extra'].append('neighbor')"
   ]
  },
  {
   "cell_type": "markdown",
   "metadata": {},
   "source": [
    "### Export metadata"
   ]
  },
  {
   "cell_type": "code",
   "execution_count": 73,
   "metadata": {
    "collapsed": false
   },
   "outputs": [
    {
     "data": {
      "text/html": [
       "<div>\n",
       "<style scoped>\n",
       "    .dataframe tbody tr th:only-of-type {\n",
       "        vertical-align: middle;\n",
       "    }\n",
       "\n",
       "    .dataframe tbody tr th {\n",
       "        vertical-align: top;\n",
       "    }\n",
       "\n",
       "    .dataframe thead th {\n",
       "        text-align: right;\n",
       "    }\n",
       "</style>\n",
       "<table border=\"1\" class=\"dataframe\">\n",
       "  <thead>\n",
       "    <tr style=\"text-align: right;\">\n",
       "      <th></th>\n",
       "      <th>asm_name</th>\n",
       "      <th>assembly_accession</th>\n",
       "      <th>bioproject</th>\n",
       "      <th>biosample</th>\n",
       "      <th>wgs_master</th>\n",
       "      <th>seq_rel_date</th>\n",
       "      <th>submitter</th>\n",
       "      <th>ftp_path</th>\n",
       "      <th>img_id</th>\n",
       "      <th>gtdb_id</th>\n",
       "      <th>...</th>\n",
       "      <th>contamination</th>\n",
       "      <th>strain_heterogeneity</th>\n",
       "      <th>markers</th>\n",
       "      <th>5s_rrna</th>\n",
       "      <th>16s_rrna</th>\n",
       "      <th>23s_rrna</th>\n",
       "      <th>trnas</th>\n",
       "      <th>draft_quality</th>\n",
       "      <th>selected</th>\n",
       "      <th>neighbor</th>\n",
       "    </tr>\n",
       "    <tr>\n",
       "      <th>#genome</th>\n",
       "      <th></th>\n",
       "      <th></th>\n",
       "      <th></th>\n",
       "      <th></th>\n",
       "      <th></th>\n",
       "      <th></th>\n",
       "      <th></th>\n",
       "      <th></th>\n",
       "      <th></th>\n",
       "      <th></th>\n",
       "      <th></th>\n",
       "      <th></th>\n",
       "      <th></th>\n",
       "      <th></th>\n",
       "      <th></th>\n",
       "      <th></th>\n",
       "      <th></th>\n",
       "      <th></th>\n",
       "      <th></th>\n",
       "      <th></th>\n",
       "      <th></th>\n",
       "    </tr>\n",
       "  </thead>\n",
       "  <tbody>\n",
       "    <tr>\n",
       "      <th>G000003135</th>\n",
       "      <td>ASM313v1</td>\n",
       "      <td>GCF_000003135.1</td>\n",
       "      <td>PRJNA224116</td>\n",
       "      <td>SAMN00001475</td>\n",
       "      <td>ACHI00000000.1</td>\n",
       "      <td>2009/05/05</td>\n",
       "      <td>Baylor College of Medicine</td>\n",
       "      <td>ftp://ftp.ncbi.nlm.nih.gov/genomes/all/GCF/000...</td>\n",
       "      <td>643886140</td>\n",
       "      <td>RS_GCF_000003135.1</td>\n",
       "      <td>...</td>\n",
       "      <td>0.00</td>\n",
       "      <td>0.0</td>\n",
       "      <td>295</td>\n",
       "      <td>yes</td>\n",
       "      <td>yes</td>\n",
       "      <td>yes</td>\n",
       "      <td>20</td>\n",
       "      <td>high</td>\n",
       "      <td>False</td>\n",
       "      <td>G001025175</td>\n",
       "    </tr>\n",
       "    <tr>\n",
       "      <th>G000003215</th>\n",
       "      <td>ASM321v1</td>\n",
       "      <td>GCF_000003215.1</td>\n",
       "      <td>PRJNA224116</td>\n",
       "      <td>SAMN02470531</td>\n",
       "      <td>ABFD00000000.2</td>\n",
       "      <td>2009/01/30</td>\n",
       "      <td>McGill University</td>\n",
       "      <td>ftp://ftp.ncbi.nlm.nih.gov/genomes/all/GCF/000...</td>\n",
       "      <td>645058803</td>\n",
       "      <td>RS_GCF_000003215.1</td>\n",
       "      <td>...</td>\n",
       "      <td>0.37</td>\n",
       "      <td>0.0</td>\n",
       "      <td>344</td>\n",
       "      <td>yes</td>\n",
       "      <td>yes</td>\n",
       "      <td>yes</td>\n",
       "      <td>17</td>\n",
       "      <td>medium</td>\n",
       "      <td>False</td>\n",
       "      <td>G000009205</td>\n",
       "    </tr>\n",
       "    <tr>\n",
       "      <th>G000003645</th>\n",
       "      <td>ASM364v1</td>\n",
       "      <td>GCF_000003645.1</td>\n",
       "      <td>PRJNA224116</td>\n",
       "      <td>SAMN00717290</td>\n",
       "      <td>ACLS00000000.1</td>\n",
       "      <td>2009/05/29</td>\n",
       "      <td>Naval Medical Research Center</td>\n",
       "      <td>ftp://ftp.ncbi.nlm.nih.gov/genomes/all/GCF/000...</td>\n",
       "      <td>643886042</td>\n",
       "      <td>RS_GCF_000003645.1</td>\n",
       "      <td>...</td>\n",
       "      <td>0.02</td>\n",
       "      <td>0.0</td>\n",
       "      <td>381</td>\n",
       "      <td>yes</td>\n",
       "      <td>yes</td>\n",
       "      <td>yes</td>\n",
       "      <td>20</td>\n",
       "      <td>high</td>\n",
       "      <td>False</td>\n",
       "      <td>G000008165</td>\n",
       "    </tr>\n",
       "    <tr>\n",
       "      <th>G000003925</th>\n",
       "      <td>ASM392v1</td>\n",
       "      <td>GCF_000003925.1</td>\n",
       "      <td>PRJNA224116</td>\n",
       "      <td>SAMN00727646</td>\n",
       "      <td>ACMU00000000.1</td>\n",
       "      <td>2009/05/29</td>\n",
       "      <td>Naval Medical Research Center</td>\n",
       "      <td>ftp://ftp.ncbi.nlm.nih.gov/genomes/all/GCF/000...</td>\n",
       "      <td>643886175</td>\n",
       "      <td>RS_GCF_000003925.1</td>\n",
       "      <td>...</td>\n",
       "      <td>0.02</td>\n",
       "      <td>0.0</td>\n",
       "      <td>381</td>\n",
       "      <td>yes</td>\n",
       "      <td>yes</td>\n",
       "      <td>yes</td>\n",
       "      <td>20</td>\n",
       "      <td>high</td>\n",
       "      <td>False</td>\n",
       "      <td>G000291295</td>\n",
       "    </tr>\n",
       "    <tr>\n",
       "      <th>G000003955</th>\n",
       "      <td>ASM395v1</td>\n",
       "      <td>GCF_000003955.1</td>\n",
       "      <td>PRJNA224116</td>\n",
       "      <td>SAMN00727677</td>\n",
       "      <td>ACMT00000000.1</td>\n",
       "      <td>2009/05/29</td>\n",
       "      <td>Naval Medical Research Center</td>\n",
       "      <td>ftp://ftp.ncbi.nlm.nih.gov/genomes/all/GCF/000...</td>\n",
       "      <td>643886176</td>\n",
       "      <td>RS_GCF_000003955.1</td>\n",
       "      <td>...</td>\n",
       "      <td>0.76</td>\n",
       "      <td>0.0</td>\n",
       "      <td>380</td>\n",
       "      <td>yes</td>\n",
       "      <td>yes</td>\n",
       "      <td>yes</td>\n",
       "      <td>20</td>\n",
       "      <td>high</td>\n",
       "      <td>False</td>\n",
       "      <td>G000291295</td>\n",
       "    </tr>\n",
       "  </tbody>\n",
       "</table>\n",
       "<p>5 rows × 54 columns</p>\n",
       "</div>"
      ],
      "text/plain": [
       "            asm_name assembly_accession   bioproject     biosample  \\\n",
       "#genome                                                              \n",
       "G000003135  ASM313v1    GCF_000003135.1  PRJNA224116  SAMN00001475   \n",
       "G000003215  ASM321v1    GCF_000003215.1  PRJNA224116  SAMN02470531   \n",
       "G000003645  ASM364v1    GCF_000003645.1  PRJNA224116  SAMN00717290   \n",
       "G000003925  ASM392v1    GCF_000003925.1  PRJNA224116  SAMN00727646   \n",
       "G000003955  ASM395v1    GCF_000003955.1  PRJNA224116  SAMN00727677   \n",
       "\n",
       "                wgs_master seq_rel_date                      submitter  \\\n",
       "#genome                                                                  \n",
       "G000003135  ACHI00000000.1   2009/05/05     Baylor College of Medicine   \n",
       "G000003215  ABFD00000000.2   2009/01/30              McGill University   \n",
       "G000003645  ACLS00000000.1   2009/05/29  Naval Medical Research Center   \n",
       "G000003925  ACMU00000000.1   2009/05/29  Naval Medical Research Center   \n",
       "G000003955  ACMT00000000.1   2009/05/29  Naval Medical Research Center   \n",
       "\n",
       "                                                     ftp_path     img_id  \\\n",
       "#genome                                                                    \n",
       "G000003135  ftp://ftp.ncbi.nlm.nih.gov/genomes/all/GCF/000...  643886140   \n",
       "G000003215  ftp://ftp.ncbi.nlm.nih.gov/genomes/all/GCF/000...  645058803   \n",
       "G000003645  ftp://ftp.ncbi.nlm.nih.gov/genomes/all/GCF/000...  643886042   \n",
       "G000003925  ftp://ftp.ncbi.nlm.nih.gov/genomes/all/GCF/000...  643886175   \n",
       "G000003955  ftp://ftp.ncbi.nlm.nih.gov/genomes/all/GCF/000...  643886176   \n",
       "\n",
       "                       gtdb_id     ...     contamination strain_heterogeneity  \\\n",
       "#genome                            ...                                          \n",
       "G000003135  RS_GCF_000003135.1     ...              0.00                  0.0   \n",
       "G000003215  RS_GCF_000003215.1     ...              0.37                  0.0   \n",
       "G000003645  RS_GCF_000003645.1     ...              0.02                  0.0   \n",
       "G000003925  RS_GCF_000003925.1     ...              0.02                  0.0   \n",
       "G000003955  RS_GCF_000003955.1     ...              0.76                  0.0   \n",
       "\n",
       "           markers 5s_rrna 16s_rrna  23s_rrna  trnas draft_quality selected  \\\n",
       "#genome                                                                       \n",
       "G000003135     295     yes      yes       yes     20          high    False   \n",
       "G000003215     344     yes      yes       yes     17        medium    False   \n",
       "G000003645     381     yes      yes       yes     20          high    False   \n",
       "G000003925     381     yes      yes       yes     20          high    False   \n",
       "G000003955     380     yes      yes       yes     20          high    False   \n",
       "\n",
       "              neighbor  \n",
       "#genome                 \n",
       "G000003135  G001025175  \n",
       "G000003215  G000009205  \n",
       "G000003645  G000008165  \n",
       "G000003925  G000291295  \n",
       "G000003955  G000291295  \n",
       "\n",
       "[5 rows x 54 columns]"
      ]
     },
     "execution_count": 73,
     "metadata": {},
     "output_type": "execute_result"
    }
   ],
   "source": [
    "meta = meta[field_order()]\n",
    "meta.index.names = ['#genome']\n",
    "d = {x: x.lower().replace('# ', '').replace(' ', '_') for x in meta.columns}\n",
    "d['GC (%)'] = 'gc'\n",
    "meta.rename(columns=d, inplace=True)\n",
    "meta.head()"
   ]
  },
  {
   "cell_type": "code",
   "execution_count": 74,
   "metadata": {
    "collapsed": true
   },
   "outputs": [],
   "source": [
    "meta.to_csv('metadata.ext.tsv', sep='\\t')"
   ]
  },
  {
   "cell_type": "code",
   "execution_count": 75,
   "metadata": {
    "collapsed": true
   },
   "outputs": [],
   "source": [
    "meta = meta[meta.index.isin(gs)].drop(['selected', 'neighbor'], axis=1)\n",
    "meta.to_csv('metadata.tsv', sep='\\t')"
   ]
  }
 ],
 "metadata": {
  "anaconda-cloud": {},
  "hide_input": false,
  "kernelspec": {
   "display_name": "Python [default]",
   "language": "python",
   "name": "python3"
  },
  "language_info": {
   "codemirror_mode": {
    "name": "ipython",
    "version": 3
   },
   "file_extension": ".py",
   "mimetype": "text/x-python",
   "name": "python",
   "nbconvert_exporter": "python",
   "pygments_lexer": "ipython3",
   "version": "3.5.2"
  }
 },
 "nbformat": 4,
 "nbformat_minor": 2
}
